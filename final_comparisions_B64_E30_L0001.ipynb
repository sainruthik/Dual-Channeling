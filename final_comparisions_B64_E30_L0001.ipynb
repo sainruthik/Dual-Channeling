{
  "cells": [
    {
      "cell_type": "code",
      "execution_count": 2,
      "id": "109e1db2-f370-457c-bc8b-bcbde8158411",
      "metadata": {
        "id": "109e1db2-f370-457c-bc8b-bcbde8158411"
      },
      "outputs": [],
      "source": [
        "import os\n",
        "from pydrive.auth import GoogleAuth\n",
        "from pydrive.drive import GoogleDrive\n",
        "from google.colab import auth\n",
        "from oauth2client.client import GoogleCredentials"
      ]
    },
    {
      "cell_type": "code",
      "execution_count": 3,
      "id": "603a0d4e-8081-401f-b518-454cdcc7d071",
      "metadata": {
        "id": "603a0d4e-8081-401f-b518-454cdcc7d071"
      },
      "outputs": [],
      "source": [
        "auth.authenticate_user()\n",
        "gauth = GoogleAuth()\n",
        "gauth.credentials = GoogleCredentials.get_application_default()\n",
        "drive = GoogleDrive(gauth)"
      ]
    },
    {
      "cell_type": "code",
      "execution_count": 4,
      "id": "d27ea428-b9b6-4167-94ca-7348ce452c20",
      "metadata": {
        "id": "d27ea428-b9b6-4167-94ca-7348ce452c20"
      },
      "outputs": [],
      "source": [
        "import os\n",
        "from glob import glob\n",
        "from PIL import Image\n",
        "\n",
        "import pandas as pd\n",
        "import numpy as np\n",
        "from sklearn.model_selection import train_test_split\n",
        "from sklearn.utils import shuffle\n",
        "import tensorflow as tf\n",
        "from tensorflow.keras.utils import to_categorical # convert to one-hot-encoding\n",
        "\n",
        "from tensorflow.keras.preprocessing.image import ImageDataGenerator\n",
        "from tensorflow.keras import layers\n",
        "from tensorflow.keras import Model\n",
        "from tensorflow.keras.applications.xception import Xception, preprocess_input\n",
        "from tensorflow.keras.applications.inception_v3 import InceptionV3, preprocess_input\n",
        "# from tensorflow.keras.optimizers import Adam\n",
        "from tensorflow.keras.optimizers.legacy import Adam\n",
        "from tensorflow.keras.callbacks import ReduceLROnPlateau, EarlyStopping\n",
        "from tensorflow.keras import backend as K\n",
        "from tensorflow.keras.layers import Input, Concatenate, GlobalAveragePooling2D, Dense, Flatten, GlobalMaxPooling2D\n",
        "from tqdm import tqdm\n",
        "import cv2\n",
        "\n",
        "\n",
        "%matplotlib inline\n",
        "import matplotlib.pyplot as plt"
      ]
    },
    {
      "cell_type": "code",
      "source": [
        "from google.colab import drive\n",
        "drive.mount('/content/drive')"
      ],
      "metadata": {
        "id": "-xLjGjf2RoRg",
        "colab": {
          "base_uri": "https://localhost:8080/"
        },
        "outputId": "ed835f3e-c9c2-4902-e882-ae9601b38bc0"
      },
      "id": "-xLjGjf2RoRg",
      "execution_count": 5,
      "outputs": [
        {
          "output_type": "stream",
          "name": "stdout",
          "text": [
            "Drive already mounted at /content/drive; to attempt to forcibly remount, call drive.mount(\"/content/drive\", force_remount=True).\n"
          ]
        }
      ]
    },
    {
      "cell_type": "code",
      "execution_count": 5,
      "id": "0ccc7598-ac48-4718-9982-2e06ab234005",
      "metadata": {
        "id": "0ccc7598-ac48-4718-9982-2e06ab234005"
      },
      "outputs": [],
      "source": [
        "input_img = Input(shape=(200, 200, 3))"
      ]
    },
    {
      "cell_type": "code",
      "execution_count": 6,
      "id": "7a06f82f-f2cf-4ff6-aa3d-15caf3710c80",
      "metadata": {
        "id": "7a06f82f-f2cf-4ff6-aa3d-15caf3710c80",
        "colab": {
          "base_uri": "https://localhost:8080/"
        },
        "outputId": "e7494a40-58a0-4300-fe3d-132afcc2ad57"
      },
      "outputs": [
        {
          "output_type": "stream",
          "name": "stdout",
          "text": [
            "Downloading data from https://storage.googleapis.com/tensorflow/keras-applications/xception/xception_weights_tf_dim_ordering_tf_kernels_notop.h5\n",
            "83683744/83683744 [==============================] - 3s 0us/step\n"
          ]
        }
      ],
      "source": [
        "# input_Inception = Input(shape=(200, 200, 3))\n",
        "base_model_1 = Xception(include_top=False, input_tensor=input_img, weights=\"imagenet\")\n",
        "# base_model_1 = Xception(weights='imagenet', include_top=False)\n",
        "model_1 = Model(inputs=base_model_1.input, outputs=base_model_1.get_layer('block14_sepconv1').output)\n",
        "model_1_output = GlobalMaxPooling2D()(model_1.output)\n",
        "\n",
        "# model_Xception = Xception(include_top=False, input_tensor=input_img, weights=\"imagenet\")\n",
        "# pooling_Xception = model_Xception.layers[-1].output\n",
        "# flatten_Xception = GlobalAveragePooling2D()(pooling_Xception)"
      ]
    },
    {
      "cell_type": "code",
      "execution_count": 7,
      "id": "b018e3db-4fed-4b5b-a9e6-b4420ec573b1",
      "metadata": {
        "id": "b018e3db-4fed-4b5b-a9e6-b4420ec573b1",
        "colab": {
          "base_uri": "https://localhost:8080/"
        },
        "outputId": "39d963bf-726b-4c31-8845-a0ce0bfdcaec"
      },
      "outputs": [
        {
          "output_type": "stream",
          "name": "stdout",
          "text": [
            "Downloading data from https://storage.googleapis.com/tensorflow/keras-applications/inception_v3/inception_v3_weights_tf_dim_ordering_tf_kernels_notop.h5\n",
            "87910968/87910968 [==============================] - 3s 0us/step\n"
          ]
        }
      ],
      "source": [
        "# input_Xception = Input(shape=(200, 200, 3))\n",
        "base_model_2 = InceptionV3(include_top=False, input_tensor=input_img, weights=\"imagenet\")\n",
        "# base_model_2 = InceptionV3(weights='imagenet', include_top=False)\n",
        "output_layers = ['mixed7', 'mixed8', 'mixed9', 'mixed10']\n",
        "model_2 = Model(inputs=base_model_2.input, outputs=[base_model_2.get_layer(layer_name).output for layer_name in output_layers])\n",
        "model_2_outputs = [GlobalMaxPooling2D()(output) for output in model_2.outputs]\n",
        "\n",
        "# model_Inception = InceptionV3(include_top=False, input_tensor=input_img, weights=\"imagenet\")\n",
        "# pooling_Inception = model_Inception.layers[-1].output\n",
        "# flatten_Inception = GlobalAveragePooling2D()(pooling_Inception)"
      ]
    },
    {
      "cell_type": "code",
      "execution_count": 8,
      "id": "ef416f84-5d79-4c03-adfe-0032466a6677",
      "metadata": {
        "id": "ef416f84-5d79-4c03-adfe-0032466a6677"
      },
      "outputs": [],
      "source": [
        "concatenated = Concatenate(axis=-1)([model_1_output] + model_2_outputs)\n",
        "# flatten_output = layers.Flatten(input_shape=(200, 200, 3))(concatenated)\n",
        "# combined_model = Model([base_model_1.input, base_model_2.input], concatenated)\n",
        "\n",
        "# concat = Concatenate()([flatten_Inception, flatten_Xception])"
      ]
    },
    {
      "cell_type": "code",
      "execution_count": 9,
      "id": "7724d8f7-6517-4a28-afb0-9b5aa38d2362",
      "metadata": {
        "id": "7724d8f7-6517-4a28-afb0-9b5aa38d2362"
      },
      "outputs": [],
      "source": [
        "# Flatten the output layer to 1 dimension\n",
        "# x1 = layers.GlobalMaxPooling2D()(last_output1)\n",
        "# Add a fully connected layer with 512 hidden units and ReLU activation\n",
        "output = layers.Dense(512, activation='relu')(concatenated)\n",
        "# Add a dropout rate of 0.5\n",
        "output = layers.Dropout(0.5)(output)\n",
        "# Add a final sigmoid layer for classification\n",
        "output = layers.Dense(4, activation='softmax')(output)\n",
        "\n",
        "# Configure and compile the model\n",
        "model = Model(inputs=input_img, outputs=output)\n",
        "# model = Model(pre_trained_model1.input, x1)\n",
        "optimizer = Adam(learning_rate=0.0001, beta_1=0.9, beta_2=0.999, epsilon=None, decay=0.0, amsgrad=True)\n",
        "model.compile(loss='categorical_crossentropy',\n",
        "              optimizer=optimizer,\n",
        "              metrics=['accuracy'])"
      ]
    },
    {
      "cell_type": "code",
      "execution_count": 9,
      "id": "02674eca-bc3c-49ff-b895-ad7d81729818",
      "metadata": {
        "id": "02674eca-bc3c-49ff-b895-ad7d81729818"
      },
      "outputs": [],
      "source": [
        "labels = ['glioma', 'meningioma', 'notumor', 'pituitary']\n",
        "\n",
        "x_train = [] # training images.\n",
        "y_train  = [] # training labels.\n",
        "x_test = [] # testing images.\n",
        "y_test = [] # testing labels.\n",
        "\n",
        "image_size = 200"
      ]
    },
    {
      "cell_type": "code",
      "execution_count": 10,
      "id": "28d49311-f8b3-4bdc-91b4-0fcca46003c7",
      "metadata": {
        "id": "28d49311-f8b3-4bdc-91b4-0fcca46003c7",
        "outputId": "112b0558-3f16-4cf7-d924-9615eba3f5e3",
        "colab": {
          "base_uri": "https://localhost:8080/"
        }
      },
      "outputs": [
        {
          "output_type": "stream",
          "name": "stderr",
          "text": [
            "100%|██████████| 1321/1321 [00:08<00:00, 158.52it/s]\n",
            "100%|██████████| 1339/1339 [00:07<00:00, 167.83it/s]\n",
            "100%|██████████| 1595/1595 [00:07<00:00, 205.63it/s]\n",
            "100%|██████████| 1457/1457 [00:10<00:00, 145.27it/s]\n"
          ]
        },
        {
          "output_type": "stream",
          "name": "stdout",
          "text": [
            "(5712, 200, 200, 3)\n"
          ]
        }
      ],
      "source": [
        "for label in labels:\n",
        "    trainPath = os.path.join('/content/drive/MyDrive/Training',label)\n",
        "    for file in tqdm(os.listdir(trainPath)):\n",
        "        image = cv2.imread(os.path.join(trainPath, file),0) # load images in gray.\n",
        "        image = cv2.bilateralFilter(image, 2, 50, 50) # remove images noise.\n",
        "        image = cv2.applyColorMap(image, cv2.COLORMAP_BONE) # produce a pseudocolored image.\n",
        "        image = cv2.resize(image, (image_size, image_size)) # resize images into 150*150.\n",
        "        x_train.append(image)\n",
        "        y_train.append(labels.index(label))\n",
        "    \n",
        "\n",
        "\n",
        "x_train = np.array(x_train) / 255.0 # normalize Images into range 0 to 1.\n",
        "\n",
        "print(x_train.shape)"
      ]
    },
    {
      "cell_type": "code",
      "execution_count": 11,
      "id": "55a0b674-8142-4912-8b69-d6fa3383af6c",
      "metadata": {
        "id": "55a0b674-8142-4912-8b69-d6fa3383af6c",
        "outputId": "a278f1de-3dac-4ca2-c855-e8a4f5be9a28",
        "colab": {
          "base_uri": "https://localhost:8080/"
        }
      },
      "outputs": [
        {
          "output_type": "stream",
          "name": "stderr",
          "text": [
            "100%|██████████| 300/300 [00:01<00:00, 190.72it/s]\n",
            "100%|██████████| 306/306 [00:01<00:00, 203.53it/s]\n",
            "100%|██████████| 405/405 [00:02<00:00, 185.97it/s]\n",
            "100%|██████████| 300/300 [00:02<00:00, 148.67it/s]\n"
          ]
        },
        {
          "output_type": "stream",
          "name": "stdout",
          "text": [
            "(1311, 200, 200, 3)\n"
          ]
        }
      ],
      "source": [
        "for label in labels:\n",
        "    testPath = os.path.join('/content/drive/MyDrive/Testing',label)\n",
        "    for file in tqdm(os.listdir(testPath)):\n",
        "        image = cv2.imread(os.path.join(testPath, file),0)\n",
        "        image = cv2.bilateralFilter(image, 2, 50, 50)\n",
        "        image = cv2.applyColorMap(image, cv2.COLORMAP_BONE)\n",
        "        image = cv2.resize(image, (image_size, image_size))\n",
        "        x_test.append(image)\n",
        "        y_test.append(labels.index(label))\n",
        "\n",
        "x_test = np.array(x_test) / 255.0\n",
        "\n",
        "print(x_test.shape)"
      ]
    },
    {
      "cell_type": "code",
      "execution_count": 12,
      "id": "7505f7dd-5073-45e4-a519-a34c559a1b5f",
      "metadata": {
        "id": "7505f7dd-5073-45e4-a519-a34c559a1b5f",
        "outputId": "295f6180-e869-4752-a705-6fda02afe7f5",
        "colab": {
          "base_uri": "https://localhost:8080/"
        }
      },
      "outputs": [
        {
          "output_type": "stream",
          "name": "stdout",
          "text": [
            "(600, 200, 200, 3)\n"
          ]
        }
      ],
      "source": [
        "x_train, y_train = shuffle(x_train,y_train,n_samples = 3000, random_state=42) \n",
        "\n",
        "y_train = tf.keras.utils.to_categorical(y_train) #One Hot Encoding on the labels\n",
        "\n",
        "x_train, x_val, y_train, y_val = train_test_split(x_train, y_train, test_size=0.2, random_state=42) #Dividing the dataset into Training and Validation sets.\n",
        "\n",
        "print(x_val.shape)"
      ]
    },
    {
      "cell_type": "code",
      "execution_count": 13,
      "id": "e118a436-34b1-4461-8912-03284986c2bb",
      "metadata": {
        "id": "e118a436-34b1-4461-8912-03284986c2bb"
      },
      "outputs": [],
      "source": [
        "y_test = tf.keras.utils.to_categorical(y_test)"
      ]
    },
    {
      "cell_type": "code",
      "execution_count": 14,
      "id": "e67dc4a4-b92d-4ea1-a5d9-5cba53fed8f8",
      "metadata": {
        "id": "e67dc4a4-b92d-4ea1-a5d9-5cba53fed8f8",
        "outputId": "e2c4f8c3-f4e1-447f-a217-c7dd5d9aca4c",
        "colab": {
          "base_uri": "https://localhost:8080/"
        }
      },
      "outputs": [
        {
          "output_type": "execute_result",
          "data": {
            "text/plain": [
              "((2400, 200, 200, 3), (600, 200, 200, 3))"
            ]
          },
          "metadata": {},
          "execution_count": 14
        }
      ],
      "source": [
        "x_train.shape, x_val.shape"
      ]
    },
    {
      "cell_type": "code",
      "execution_count": 15,
      "id": "6c508641-0ab2-4200-a802-d664d8852877",
      "metadata": {
        "id": "6c508641-0ab2-4200-a802-d664d8852877",
        "outputId": "aa059880-238c-4537-c56d-15821ee20ca9",
        "colab": {
          "base_uri": "https://localhost:8080/"
        }
      },
      "outputs": [
        {
          "output_type": "execute_result",
          "data": {
            "text/plain": [
              "((2400, 4), (600, 4))"
            ]
          },
          "metadata": {},
          "execution_count": 15
        }
      ],
      "source": [
        "y_train.shape, y_val.shape"
      ]
    },
    {
      "cell_type": "code",
      "execution_count": 17,
      "id": "cb40bbf8-aaa5-4b99-8ef6-dc9b02047441",
      "metadata": {
        "id": "cb40bbf8-aaa5-4b99-8ef6-dc9b02047441"
      },
      "outputs": [],
      "source": [
        "train_datagen = ImageDataGenerator(\n",
        "        featurewise_center=False,  # set input mean to 0 over the dataset\n",
        "        samplewise_center=False,  # set each sample mean to 0\n",
        "        featurewise_std_normalization=False,  # divide inputs by std of the dataset\n",
        "        samplewise_std_normalization=False,  # divide each input by its std\n",
        "        zca_whitening=False,  # apply ZCA whitening\n",
        "        rotation_range=90,  # randomly rotate images in the range (degrees, 0 to 180)\n",
        "        zoom_range = 0.1, # Randomly zoom image \n",
        "        width_shift_range=0.1,  # randomly shift images horizontally (fraction of total width)\n",
        "        height_shift_range=0.1,  # randomly shift images vertically (fraction of total height)\n",
        "        horizontal_flip=True,  # randomly flip images\n",
        "        vertical_flip=True,  # randomly flip images\n",
        "        shear_range = 10)\n",
        "\n",
        "train_datagen.fit(x_train)\n",
        "\n",
        "val_datagen = ImageDataGenerator()\n",
        "val_datagen.fit(x_val)"
      ]
    },
    {
      "cell_type": "code",
      "execution_count": 18,
      "id": "2c7fbff2-1510-4e8d-915c-ce4079f466b3",
      "metadata": {
        "id": "2c7fbff2-1510-4e8d-915c-ce4079f466b3"
      },
      "outputs": [],
      "source": [
        "optimizer = Adam(learning_rate=0.0001, beta_1=0.9, beta_2=0.999, epsilon=None, decay=0.0, amsgrad=False)\n",
        "model.compile(loss='categorical_crossentropy',\n",
        "              optimizer=optimizer,\n",
        "              metrics=['acc'])"
      ]
    },
    {
      "cell_type": "code",
      "execution_count": 19,
      "id": "ca2a105f-0d4f-4928-9bf3-dd42099997b3",
      "metadata": {
        "id": "ca2a105f-0d4f-4928-9bf3-dd42099997b3"
      },
      "outputs": [],
      "source": [
        "learning_rate_reduction = ReduceLROnPlateau(monitor='val_acc', patience=3, verbose=1, factor=0.5, \n",
        "                                            min_lr=0.000001, cooldown=2)"
      ]
    },
    {
      "cell_type": "code",
      "execution_count": 20,
      "id": "44ffc65f-f23e-4962-80cc-6586bc84a82e",
      "metadata": {
        "id": "44ffc65f-f23e-4962-80cc-6586bc84a82e",
        "outputId": "916ab2b4-646e-4873-c4b3-c40584fdc616",
        "colab": {
          "base_uri": "https://localhost:8080/"
        }
      },
      "outputs": [
        {
          "output_type": "stream",
          "name": "stdout",
          "text": [
            "Model: \"model_2\"\n",
            "__________________________________________________________________________________________________\n",
            " Layer (type)                   Output Shape         Param #     Connected to                     \n",
            "==================================================================================================\n",
            " input_1 (InputLayer)           [(None, 200, 200, 3  0           []                               \n",
            "                                )]                                                                \n",
            "                                                                                                  \n",
            " conv2d_4 (Conv2D)              (None, 99, 99, 32)   864         ['input_1[0][0]']                \n",
            "                                                                                                  \n",
            " batch_normalization_4 (BatchNo  (None, 99, 99, 32)  96          ['conv2d_4[0][0]']               \n",
            " rmalization)                                                                                     \n",
            "                                                                                                  \n",
            " activation (Activation)        (None, 99, 99, 32)   0           ['batch_normalization_4[0][0]']  \n",
            "                                                                                                  \n",
            " conv2d_5 (Conv2D)              (None, 97, 97, 32)   9216        ['activation[0][0]']             \n",
            "                                                                                                  \n",
            " batch_normalization_5 (BatchNo  (None, 97, 97, 32)  96          ['conv2d_5[0][0]']               \n",
            " rmalization)                                                                                     \n",
            "                                                                                                  \n",
            " activation_1 (Activation)      (None, 97, 97, 32)   0           ['batch_normalization_5[0][0]']  \n",
            "                                                                                                  \n",
            " conv2d_6 (Conv2D)              (None, 97, 97, 64)   18432       ['activation_1[0][0]']           \n",
            "                                                                                                  \n",
            " batch_normalization_6 (BatchNo  (None, 97, 97, 64)  192         ['conv2d_6[0][0]']               \n",
            " rmalization)                                                                                     \n",
            "                                                                                                  \n",
            " activation_2 (Activation)      (None, 97, 97, 64)   0           ['batch_normalization_6[0][0]']  \n",
            "                                                                                                  \n",
            " max_pooling2d (MaxPooling2D)   (None, 48, 48, 64)   0           ['activation_2[0][0]']           \n",
            "                                                                                                  \n",
            " conv2d_7 (Conv2D)              (None, 48, 48, 80)   5120        ['max_pooling2d[0][0]']          \n",
            "                                                                                                  \n",
            " batch_normalization_7 (BatchNo  (None, 48, 48, 80)  240         ['conv2d_7[0][0]']               \n",
            " rmalization)                                                                                     \n",
            "                                                                                                  \n",
            " activation_3 (Activation)      (None, 48, 48, 80)   0           ['batch_normalization_7[0][0]']  \n",
            "                                                                                                  \n",
            " conv2d_8 (Conv2D)              (None, 46, 46, 192)  138240      ['activation_3[0][0]']           \n",
            "                                                                                                  \n",
            " batch_normalization_8 (BatchNo  (None, 46, 46, 192)  576        ['conv2d_8[0][0]']               \n",
            " rmalization)                                                                                     \n",
            "                                                                                                  \n",
            " activation_4 (Activation)      (None, 46, 46, 192)  0           ['batch_normalization_8[0][0]']  \n",
            "                                                                                                  \n",
            " max_pooling2d_1 (MaxPooling2D)  (None, 22, 22, 192)  0          ['activation_4[0][0]']           \n",
            "                                                                                                  \n",
            " conv2d_12 (Conv2D)             (None, 22, 22, 64)   12288       ['max_pooling2d_1[0][0]']        \n",
            "                                                                                                  \n",
            " batch_normalization_12 (BatchN  (None, 22, 22, 64)  192         ['conv2d_12[0][0]']              \n",
            " ormalization)                                                                                    \n",
            "                                                                                                  \n",
            " activation_8 (Activation)      (None, 22, 22, 64)   0           ['batch_normalization_12[0][0]'] \n",
            "                                                                                                  \n",
            " conv2d_10 (Conv2D)             (None, 22, 22, 48)   9216        ['max_pooling2d_1[0][0]']        \n",
            "                                                                                                  \n",
            " conv2d_13 (Conv2D)             (None, 22, 22, 96)   55296       ['activation_8[0][0]']           \n",
            "                                                                                                  \n",
            " batch_normalization_10 (BatchN  (None, 22, 22, 48)  144         ['conv2d_10[0][0]']              \n",
            " ormalization)                                                                                    \n",
            "                                                                                                  \n",
            " batch_normalization_13 (BatchN  (None, 22, 22, 96)  288         ['conv2d_13[0][0]']              \n",
            " ormalization)                                                                                    \n",
            "                                                                                                  \n",
            " activation_6 (Activation)      (None, 22, 22, 48)   0           ['batch_normalization_10[0][0]'] \n",
            "                                                                                                  \n",
            " activation_9 (Activation)      (None, 22, 22, 96)   0           ['batch_normalization_13[0][0]'] \n",
            "                                                                                                  \n",
            " average_pooling2d (AveragePool  (None, 22, 22, 192)  0          ['max_pooling2d_1[0][0]']        \n",
            " ing2D)                                                                                           \n",
            "                                                                                                  \n",
            " conv2d_9 (Conv2D)              (None, 22, 22, 64)   12288       ['max_pooling2d_1[0][0]']        \n",
            "                                                                                                  \n",
            " conv2d_11 (Conv2D)             (None, 22, 22, 64)   76800       ['activation_6[0][0]']           \n",
            "                                                                                                  \n",
            " conv2d_14 (Conv2D)             (None, 22, 22, 96)   82944       ['activation_9[0][0]']           \n",
            "                                                                                                  \n",
            " conv2d_15 (Conv2D)             (None, 22, 22, 32)   6144        ['average_pooling2d[0][0]']      \n",
            "                                                                                                  \n",
            " batch_normalization_9 (BatchNo  (None, 22, 22, 64)  192         ['conv2d_9[0][0]']               \n",
            " rmalization)                                                                                     \n",
            "                                                                                                  \n",
            " batch_normalization_11 (BatchN  (None, 22, 22, 64)  192         ['conv2d_11[0][0]']              \n",
            " ormalization)                                                                                    \n",
            "                                                                                                  \n",
            " batch_normalization_14 (BatchN  (None, 22, 22, 96)  288         ['conv2d_14[0][0]']              \n",
            " ormalization)                                                                                    \n",
            "                                                                                                  \n",
            " batch_normalization_15 (BatchN  (None, 22, 22, 32)  96          ['conv2d_15[0][0]']              \n",
            " ormalization)                                                                                    \n",
            "                                                                                                  \n",
            " activation_5 (Activation)      (None, 22, 22, 64)   0           ['batch_normalization_9[0][0]']  \n",
            "                                                                                                  \n",
            " activation_7 (Activation)      (None, 22, 22, 64)   0           ['batch_normalization_11[0][0]'] \n",
            "                                                                                                  \n",
            " activation_10 (Activation)     (None, 22, 22, 96)   0           ['batch_normalization_14[0][0]'] \n",
            "                                                                                                  \n",
            " activation_11 (Activation)     (None, 22, 22, 32)   0           ['batch_normalization_15[0][0]'] \n",
            "                                                                                                  \n",
            " mixed0 (Concatenate)           (None, 22, 22, 256)  0           ['activation_5[0][0]',           \n",
            "                                                                  'activation_7[0][0]',           \n",
            "                                                                  'activation_10[0][0]',          \n",
            "                                                                  'activation_11[0][0]']          \n",
            "                                                                                                  \n",
            " conv2d_19 (Conv2D)             (None, 22, 22, 64)   16384       ['mixed0[0][0]']                 \n",
            "                                                                                                  \n",
            " batch_normalization_19 (BatchN  (None, 22, 22, 64)  192         ['conv2d_19[0][0]']              \n",
            " ormalization)                                                                                    \n",
            "                                                                                                  \n",
            " activation_15 (Activation)     (None, 22, 22, 64)   0           ['batch_normalization_19[0][0]'] \n",
            "                                                                                                  \n",
            " conv2d_17 (Conv2D)             (None, 22, 22, 48)   12288       ['mixed0[0][0]']                 \n",
            "                                                                                                  \n",
            " conv2d_20 (Conv2D)             (None, 22, 22, 96)   55296       ['activation_15[0][0]']          \n",
            "                                                                                                  \n",
            " batch_normalization_17 (BatchN  (None, 22, 22, 48)  144         ['conv2d_17[0][0]']              \n",
            " ormalization)                                                                                    \n",
            "                                                                                                  \n",
            " batch_normalization_20 (BatchN  (None, 22, 22, 96)  288         ['conv2d_20[0][0]']              \n",
            " ormalization)                                                                                    \n",
            "                                                                                                  \n",
            " activation_13 (Activation)     (None, 22, 22, 48)   0           ['batch_normalization_17[0][0]'] \n",
            "                                                                                                  \n",
            " activation_16 (Activation)     (None, 22, 22, 96)   0           ['batch_normalization_20[0][0]'] \n",
            "                                                                                                  \n",
            " average_pooling2d_1 (AveragePo  (None, 22, 22, 256)  0          ['mixed0[0][0]']                 \n",
            " oling2D)                                                                                         \n",
            "                                                                                                  \n",
            " conv2d_16 (Conv2D)             (None, 22, 22, 64)   16384       ['mixed0[0][0]']                 \n",
            "                                                                                                  \n",
            " conv2d_18 (Conv2D)             (None, 22, 22, 64)   76800       ['activation_13[0][0]']          \n",
            "                                                                                                  \n",
            " conv2d_21 (Conv2D)             (None, 22, 22, 96)   82944       ['activation_16[0][0]']          \n",
            "                                                                                                  \n",
            " conv2d_22 (Conv2D)             (None, 22, 22, 64)   16384       ['average_pooling2d_1[0][0]']    \n",
            "                                                                                                  \n",
            " batch_normalization_16 (BatchN  (None, 22, 22, 64)  192         ['conv2d_16[0][0]']              \n",
            " ormalization)                                                                                    \n",
            "                                                                                                  \n",
            " batch_normalization_18 (BatchN  (None, 22, 22, 64)  192         ['conv2d_18[0][0]']              \n",
            " ormalization)                                                                                    \n",
            "                                                                                                  \n",
            " batch_normalization_21 (BatchN  (None, 22, 22, 96)  288         ['conv2d_21[0][0]']              \n",
            " ormalization)                                                                                    \n",
            "                                                                                                  \n",
            " batch_normalization_22 (BatchN  (None, 22, 22, 64)  192         ['conv2d_22[0][0]']              \n",
            " ormalization)                                                                                    \n",
            "                                                                                                  \n",
            " activation_12 (Activation)     (None, 22, 22, 64)   0           ['batch_normalization_16[0][0]'] \n",
            "                                                                                                  \n",
            " activation_14 (Activation)     (None, 22, 22, 64)   0           ['batch_normalization_18[0][0]'] \n",
            "                                                                                                  \n",
            " activation_17 (Activation)     (None, 22, 22, 96)   0           ['batch_normalization_21[0][0]'] \n",
            "                                                                                                  \n",
            " activation_18 (Activation)     (None, 22, 22, 64)   0           ['batch_normalization_22[0][0]'] \n",
            "                                                                                                  \n",
            " mixed1 (Concatenate)           (None, 22, 22, 288)  0           ['activation_12[0][0]',          \n",
            "                                                                  'activation_14[0][0]',          \n",
            "                                                                  'activation_17[0][0]',          \n",
            "                                                                  'activation_18[0][0]']          \n",
            "                                                                                                  \n",
            " conv2d_26 (Conv2D)             (None, 22, 22, 64)   18432       ['mixed1[0][0]']                 \n",
            "                                                                                                  \n",
            " block1_conv1 (Conv2D)          (None, 99, 99, 32)   864         ['input_1[0][0]']                \n",
            "                                                                                                  \n",
            " batch_normalization_26 (BatchN  (None, 22, 22, 64)  192         ['conv2d_26[0][0]']              \n",
            " ormalization)                                                                                    \n",
            "                                                                                                  \n",
            " block1_conv1_bn (BatchNormaliz  (None, 99, 99, 32)  128         ['block1_conv1[0][0]']           \n",
            " ation)                                                                                           \n",
            "                                                                                                  \n",
            " activation_22 (Activation)     (None, 22, 22, 64)   0           ['batch_normalization_26[0][0]'] \n",
            "                                                                                                  \n",
            " block1_conv1_act (Activation)  (None, 99, 99, 32)   0           ['block1_conv1_bn[0][0]']        \n",
            "                                                                                                  \n",
            " conv2d_24 (Conv2D)             (None, 22, 22, 48)   13824       ['mixed1[0][0]']                 \n",
            "                                                                                                  \n",
            " conv2d_27 (Conv2D)             (None, 22, 22, 96)   55296       ['activation_22[0][0]']          \n",
            "                                                                                                  \n",
            " block1_conv2 (Conv2D)          (None, 97, 97, 64)   18432       ['block1_conv1_act[0][0]']       \n",
            "                                                                                                  \n",
            " batch_normalization_24 (BatchN  (None, 22, 22, 48)  144         ['conv2d_24[0][0]']              \n",
            " ormalization)                                                                                    \n",
            "                                                                                                  \n",
            " batch_normalization_27 (BatchN  (None, 22, 22, 96)  288         ['conv2d_27[0][0]']              \n",
            " ormalization)                                                                                    \n",
            "                                                                                                  \n",
            " block1_conv2_bn (BatchNormaliz  (None, 97, 97, 64)  256         ['block1_conv2[0][0]']           \n",
            " ation)                                                                                           \n",
            "                                                                                                  \n",
            " activation_20 (Activation)     (None, 22, 22, 48)   0           ['batch_normalization_24[0][0]'] \n",
            "                                                                                                  \n",
            " activation_23 (Activation)     (None, 22, 22, 96)   0           ['batch_normalization_27[0][0]'] \n",
            "                                                                                                  \n",
            " average_pooling2d_2 (AveragePo  (None, 22, 22, 288)  0          ['mixed1[0][0]']                 \n",
            " oling2D)                                                                                         \n",
            "                                                                                                  \n",
            " block1_conv2_act (Activation)  (None, 97, 97, 64)   0           ['block1_conv2_bn[0][0]']        \n",
            "                                                                                                  \n",
            " conv2d_23 (Conv2D)             (None, 22, 22, 64)   18432       ['mixed1[0][0]']                 \n",
            "                                                                                                  \n",
            " conv2d_25 (Conv2D)             (None, 22, 22, 64)   76800       ['activation_20[0][0]']          \n",
            "                                                                                                  \n",
            " conv2d_28 (Conv2D)             (None, 22, 22, 96)   82944       ['activation_23[0][0]']          \n",
            "                                                                                                  \n",
            " conv2d_29 (Conv2D)             (None, 22, 22, 64)   18432       ['average_pooling2d_2[0][0]']    \n",
            "                                                                                                  \n",
            " block2_sepconv1 (SeparableConv  (None, 97, 97, 128)  8768       ['block1_conv2_act[0][0]']       \n",
            " 2D)                                                                                              \n",
            "                                                                                                  \n",
            " batch_normalization_23 (BatchN  (None, 22, 22, 64)  192         ['conv2d_23[0][0]']              \n",
            " ormalization)                                                                                    \n",
            "                                                                                                  \n",
            " batch_normalization_25 (BatchN  (None, 22, 22, 64)  192         ['conv2d_25[0][0]']              \n",
            " ormalization)                                                                                    \n",
            "                                                                                                  \n",
            " batch_normalization_28 (BatchN  (None, 22, 22, 96)  288         ['conv2d_28[0][0]']              \n",
            " ormalization)                                                                                    \n",
            "                                                                                                  \n",
            " batch_normalization_29 (BatchN  (None, 22, 22, 64)  192         ['conv2d_29[0][0]']              \n",
            " ormalization)                                                                                    \n",
            "                                                                                                  \n",
            " block2_sepconv1_bn (BatchNorma  (None, 97, 97, 128)  512        ['block2_sepconv1[0][0]']        \n",
            " lization)                                                                                        \n",
            "                                                                                                  \n",
            " activation_19 (Activation)     (None, 22, 22, 64)   0           ['batch_normalization_23[0][0]'] \n",
            "                                                                                                  \n",
            " activation_21 (Activation)     (None, 22, 22, 64)   0           ['batch_normalization_25[0][0]'] \n",
            "                                                                                                  \n",
            " activation_24 (Activation)     (None, 22, 22, 96)   0           ['batch_normalization_28[0][0]'] \n",
            "                                                                                                  \n",
            " activation_25 (Activation)     (None, 22, 22, 64)   0           ['batch_normalization_29[0][0]'] \n",
            "                                                                                                  \n",
            " block2_sepconv2_act (Activatio  (None, 97, 97, 128)  0          ['block2_sepconv1_bn[0][0]']     \n",
            " n)                                                                                               \n",
            "                                                                                                  \n",
            " mixed2 (Concatenate)           (None, 22, 22, 288)  0           ['activation_19[0][0]',          \n",
            "                                                                  'activation_21[0][0]',          \n",
            "                                                                  'activation_24[0][0]',          \n",
            "                                                                  'activation_25[0][0]']          \n",
            "                                                                                                  \n",
            " block2_sepconv2 (SeparableConv  (None, 97, 97, 128)  17536      ['block2_sepconv2_act[0][0]']    \n",
            " 2D)                                                                                              \n",
            "                                                                                                  \n",
            " conv2d_31 (Conv2D)             (None, 22, 22, 64)   18432       ['mixed2[0][0]']                 \n",
            "                                                                                                  \n",
            " block2_sepconv2_bn (BatchNorma  (None, 97, 97, 128)  512        ['block2_sepconv2[0][0]']        \n",
            " lization)                                                                                        \n",
            "                                                                                                  \n",
            " conv2d (Conv2D)                (None, 49, 49, 128)  8192        ['block1_conv2_act[0][0]']       \n",
            "                                                                                                  \n",
            " batch_normalization_31 (BatchN  (None, 22, 22, 64)  192         ['conv2d_31[0][0]']              \n",
            " ormalization)                                                                                    \n",
            "                                                                                                  \n",
            " block2_pool (MaxPooling2D)     (None, 49, 49, 128)  0           ['block2_sepconv2_bn[0][0]']     \n",
            "                                                                                                  \n",
            " batch_normalization (BatchNorm  (None, 49, 49, 128)  512        ['conv2d[0][0]']                 \n",
            " alization)                                                                                       \n",
            "                                                                                                  \n",
            " activation_27 (Activation)     (None, 22, 22, 64)   0           ['batch_normalization_31[0][0]'] \n",
            "                                                                                                  \n",
            " add (Add)                      (None, 49, 49, 128)  0           ['block2_pool[0][0]',            \n",
            "                                                                  'batch_normalization[0][0]']    \n",
            "                                                                                                  \n",
            " conv2d_32 (Conv2D)             (None, 22, 22, 96)   55296       ['activation_27[0][0]']          \n",
            "                                                                                                  \n",
            " block3_sepconv1_act (Activatio  (None, 49, 49, 128)  0          ['add[0][0]']                    \n",
            " n)                                                                                               \n",
            "                                                                                                  \n",
            " batch_normalization_32 (BatchN  (None, 22, 22, 96)  288         ['conv2d_32[0][0]']              \n",
            " ormalization)                                                                                    \n",
            "                                                                                                  \n",
            " block3_sepconv1 (SeparableConv  (None, 49, 49, 256)  33920      ['block3_sepconv1_act[0][0]']    \n",
            " 2D)                                                                                              \n",
            "                                                                                                  \n",
            " activation_28 (Activation)     (None, 22, 22, 96)   0           ['batch_normalization_32[0][0]'] \n",
            "                                                                                                  \n",
            " block3_sepconv1_bn (BatchNorma  (None, 49, 49, 256)  1024       ['block3_sepconv1[0][0]']        \n",
            " lization)                                                                                        \n",
            "                                                                                                  \n",
            " conv2d_30 (Conv2D)             (None, 10, 10, 384)  995328      ['mixed2[0][0]']                 \n",
            "                                                                                                  \n",
            " conv2d_33 (Conv2D)             (None, 10, 10, 96)   82944       ['activation_28[0][0]']          \n",
            "                                                                                                  \n",
            " block3_sepconv2_act (Activatio  (None, 49, 49, 256)  0          ['block3_sepconv1_bn[0][0]']     \n",
            " n)                                                                                               \n",
            "                                                                                                  \n",
            " batch_normalization_30 (BatchN  (None, 10, 10, 384)  1152       ['conv2d_30[0][0]']              \n",
            " ormalization)                                                                                    \n",
            "                                                                                                  \n",
            " batch_normalization_33 (BatchN  (None, 10, 10, 96)  288         ['conv2d_33[0][0]']              \n",
            " ormalization)                                                                                    \n",
            "                                                                                                  \n",
            " block3_sepconv2 (SeparableConv  (None, 49, 49, 256)  67840      ['block3_sepconv2_act[0][0]']    \n",
            " 2D)                                                                                              \n",
            "                                                                                                  \n",
            " activation_26 (Activation)     (None, 10, 10, 384)  0           ['batch_normalization_30[0][0]'] \n",
            "                                                                                                  \n",
            " activation_29 (Activation)     (None, 10, 10, 96)   0           ['batch_normalization_33[0][0]'] \n",
            "                                                                                                  \n",
            " max_pooling2d_2 (MaxPooling2D)  (None, 10, 10, 288)  0          ['mixed2[0][0]']                 \n",
            "                                                                                                  \n",
            " block3_sepconv2_bn (BatchNorma  (None, 49, 49, 256)  1024       ['block3_sepconv2[0][0]']        \n",
            " lization)                                                                                        \n",
            "                                                                                                  \n",
            " conv2d_1 (Conv2D)              (None, 25, 25, 256)  32768       ['add[0][0]']                    \n",
            "                                                                                                  \n",
            " mixed3 (Concatenate)           (None, 10, 10, 768)  0           ['activation_26[0][0]',          \n",
            "                                                                  'activation_29[0][0]',          \n",
            "                                                                  'max_pooling2d_2[0][0]']        \n",
            "                                                                                                  \n",
            " block3_pool (MaxPooling2D)     (None, 25, 25, 256)  0           ['block3_sepconv2_bn[0][0]']     \n",
            "                                                                                                  \n",
            " batch_normalization_1 (BatchNo  (None, 25, 25, 256)  1024       ['conv2d_1[0][0]']               \n",
            " rmalization)                                                                                     \n",
            "                                                                                                  \n",
            " conv2d_38 (Conv2D)             (None, 10, 10, 128)  98304       ['mixed3[0][0]']                 \n",
            "                                                                                                  \n",
            " add_1 (Add)                    (None, 25, 25, 256)  0           ['block3_pool[0][0]',            \n",
            "                                                                  'batch_normalization_1[0][0]']  \n",
            "                                                                                                  \n",
            " batch_normalization_38 (BatchN  (None, 10, 10, 128)  384        ['conv2d_38[0][0]']              \n",
            " ormalization)                                                                                    \n",
            "                                                                                                  \n",
            " block4_sepconv1_act (Activatio  (None, 25, 25, 256)  0          ['add_1[0][0]']                  \n",
            " n)                                                                                               \n",
            "                                                                                                  \n",
            " activation_34 (Activation)     (None, 10, 10, 128)  0           ['batch_normalization_38[0][0]'] \n",
            "                                                                                                  \n",
            " block4_sepconv1 (SeparableConv  (None, 25, 25, 728)  188672     ['block4_sepconv1_act[0][0]']    \n",
            " 2D)                                                                                              \n",
            "                                                                                                  \n",
            " conv2d_39 (Conv2D)             (None, 10, 10, 128)  114688      ['activation_34[0][0]']          \n",
            "                                                                                                  \n",
            " block4_sepconv1_bn (BatchNorma  (None, 25, 25, 728)  2912       ['block4_sepconv1[0][0]']        \n",
            " lization)                                                                                        \n",
            "                                                                                                  \n",
            " batch_normalization_39 (BatchN  (None, 10, 10, 128)  384        ['conv2d_39[0][0]']              \n",
            " ormalization)                                                                                    \n",
            "                                                                                                  \n",
            " block4_sepconv2_act (Activatio  (None, 25, 25, 728)  0          ['block4_sepconv1_bn[0][0]']     \n",
            " n)                                                                                               \n",
            "                                                                                                  \n",
            " activation_35 (Activation)     (None, 10, 10, 128)  0           ['batch_normalization_39[0][0]'] \n",
            "                                                                                                  \n",
            " block4_sepconv2 (SeparableConv  (None, 25, 25, 728)  536536     ['block4_sepconv2_act[0][0]']    \n",
            " 2D)                                                                                              \n",
            "                                                                                                  \n",
            " conv2d_35 (Conv2D)             (None, 10, 10, 128)  98304       ['mixed3[0][0]']                 \n",
            "                                                                                                  \n",
            " conv2d_40 (Conv2D)             (None, 10, 10, 128)  114688      ['activation_35[0][0]']          \n",
            "                                                                                                  \n",
            " block4_sepconv2_bn (BatchNorma  (None, 25, 25, 728)  2912       ['block4_sepconv2[0][0]']        \n",
            " lization)                                                                                        \n",
            "                                                                                                  \n",
            " conv2d_2 (Conv2D)              (None, 13, 13, 728)  186368      ['add_1[0][0]']                  \n",
            "                                                                                                  \n",
            " batch_normalization_35 (BatchN  (None, 10, 10, 128)  384        ['conv2d_35[0][0]']              \n",
            " ormalization)                                                                                    \n",
            "                                                                                                  \n",
            " batch_normalization_40 (BatchN  (None, 10, 10, 128)  384        ['conv2d_40[0][0]']              \n",
            " ormalization)                                                                                    \n",
            "                                                                                                  \n",
            " block4_pool (MaxPooling2D)     (None, 13, 13, 728)  0           ['block4_sepconv2_bn[0][0]']     \n",
            "                                                                                                  \n",
            " batch_normalization_2 (BatchNo  (None, 13, 13, 728)  2912       ['conv2d_2[0][0]']               \n",
            " rmalization)                                                                                     \n",
            "                                                                                                  \n",
            " activation_31 (Activation)     (None, 10, 10, 128)  0           ['batch_normalization_35[0][0]'] \n",
            "                                                                                                  \n",
            " activation_36 (Activation)     (None, 10, 10, 128)  0           ['batch_normalization_40[0][0]'] \n",
            "                                                                                                  \n",
            " add_2 (Add)                    (None, 13, 13, 728)  0           ['block4_pool[0][0]',            \n",
            "                                                                  'batch_normalization_2[0][0]']  \n",
            "                                                                                                  \n",
            " conv2d_36 (Conv2D)             (None, 10, 10, 128)  114688      ['activation_31[0][0]']          \n",
            "                                                                                                  \n",
            " conv2d_41 (Conv2D)             (None, 10, 10, 128)  114688      ['activation_36[0][0]']          \n",
            "                                                                                                  \n",
            " block5_sepconv1_act (Activatio  (None, 13, 13, 728)  0          ['add_2[0][0]']                  \n",
            " n)                                                                                               \n",
            "                                                                                                  \n",
            " batch_normalization_36 (BatchN  (None, 10, 10, 128)  384        ['conv2d_36[0][0]']              \n",
            " ormalization)                                                                                    \n",
            "                                                                                                  \n",
            " batch_normalization_41 (BatchN  (None, 10, 10, 128)  384        ['conv2d_41[0][0]']              \n",
            " ormalization)                                                                                    \n",
            "                                                                                                  \n",
            " block5_sepconv1 (SeparableConv  (None, 13, 13, 728)  536536     ['block5_sepconv1_act[0][0]']    \n",
            " 2D)                                                                                              \n",
            "                                                                                                  \n",
            " activation_32 (Activation)     (None, 10, 10, 128)  0           ['batch_normalization_36[0][0]'] \n",
            "                                                                                                  \n",
            " activation_37 (Activation)     (None, 10, 10, 128)  0           ['batch_normalization_41[0][0]'] \n",
            "                                                                                                  \n",
            " average_pooling2d_3 (AveragePo  (None, 10, 10, 768)  0          ['mixed3[0][0]']                 \n",
            " oling2D)                                                                                         \n",
            "                                                                                                  \n",
            " block5_sepconv1_bn (BatchNorma  (None, 13, 13, 728)  2912       ['block5_sepconv1[0][0]']        \n",
            " lization)                                                                                        \n",
            "                                                                                                  \n",
            " conv2d_34 (Conv2D)             (None, 10, 10, 192)  147456      ['mixed3[0][0]']                 \n",
            "                                                                                                  \n",
            " conv2d_37 (Conv2D)             (None, 10, 10, 192)  172032      ['activation_32[0][0]']          \n",
            "                                                                                                  \n",
            " conv2d_42 (Conv2D)             (None, 10, 10, 192)  172032      ['activation_37[0][0]']          \n",
            "                                                                                                  \n",
            " conv2d_43 (Conv2D)             (None, 10, 10, 192)  147456      ['average_pooling2d_3[0][0]']    \n",
            "                                                                                                  \n",
            " block5_sepconv2_act (Activatio  (None, 13, 13, 728)  0          ['block5_sepconv1_bn[0][0]']     \n",
            " n)                                                                                               \n",
            "                                                                                                  \n",
            " batch_normalization_34 (BatchN  (None, 10, 10, 192)  576        ['conv2d_34[0][0]']              \n",
            " ormalization)                                                                                    \n",
            "                                                                                                  \n",
            " batch_normalization_37 (BatchN  (None, 10, 10, 192)  576        ['conv2d_37[0][0]']              \n",
            " ormalization)                                                                                    \n",
            "                                                                                                  \n",
            " batch_normalization_42 (BatchN  (None, 10, 10, 192)  576        ['conv2d_42[0][0]']              \n",
            " ormalization)                                                                                    \n",
            "                                                                                                  \n",
            " batch_normalization_43 (BatchN  (None, 10, 10, 192)  576        ['conv2d_43[0][0]']              \n",
            " ormalization)                                                                                    \n",
            "                                                                                                  \n",
            " block5_sepconv2 (SeparableConv  (None, 13, 13, 728)  536536     ['block5_sepconv2_act[0][0]']    \n",
            " 2D)                                                                                              \n",
            "                                                                                                  \n",
            " activation_30 (Activation)     (None, 10, 10, 192)  0           ['batch_normalization_34[0][0]'] \n",
            "                                                                                                  \n",
            " activation_33 (Activation)     (None, 10, 10, 192)  0           ['batch_normalization_37[0][0]'] \n",
            "                                                                                                  \n",
            " activation_38 (Activation)     (None, 10, 10, 192)  0           ['batch_normalization_42[0][0]'] \n",
            "                                                                                                  \n",
            " activation_39 (Activation)     (None, 10, 10, 192)  0           ['batch_normalization_43[0][0]'] \n",
            "                                                                                                  \n",
            " block5_sepconv2_bn (BatchNorma  (None, 13, 13, 728)  2912       ['block5_sepconv2[0][0]']        \n",
            " lization)                                                                                        \n",
            "                                                                                                  \n",
            " mixed4 (Concatenate)           (None, 10, 10, 768)  0           ['activation_30[0][0]',          \n",
            "                                                                  'activation_33[0][0]',          \n",
            "                                                                  'activation_38[0][0]',          \n",
            "                                                                  'activation_39[0][0]']          \n",
            "                                                                                                  \n",
            " block5_sepconv3_act (Activatio  (None, 13, 13, 728)  0          ['block5_sepconv2_bn[0][0]']     \n",
            " n)                                                                                               \n",
            "                                                                                                  \n",
            " conv2d_48 (Conv2D)             (None, 10, 10, 160)  122880      ['mixed4[0][0]']                 \n",
            "                                                                                                  \n",
            " block5_sepconv3 (SeparableConv  (None, 13, 13, 728)  536536     ['block5_sepconv3_act[0][0]']    \n",
            " 2D)                                                                                              \n",
            "                                                                                                  \n",
            " batch_normalization_48 (BatchN  (None, 10, 10, 160)  480        ['conv2d_48[0][0]']              \n",
            " ormalization)                                                                                    \n",
            "                                                                                                  \n",
            " block5_sepconv3_bn (BatchNorma  (None, 13, 13, 728)  2912       ['block5_sepconv3[0][0]']        \n",
            " lization)                                                                                        \n",
            "                                                                                                  \n",
            " activation_44 (Activation)     (None, 10, 10, 160)  0           ['batch_normalization_48[0][0]'] \n",
            "                                                                                                  \n",
            " add_3 (Add)                    (None, 13, 13, 728)  0           ['block5_sepconv3_bn[0][0]',     \n",
            "                                                                  'add_2[0][0]']                  \n",
            "                                                                                                  \n",
            " conv2d_49 (Conv2D)             (None, 10, 10, 160)  179200      ['activation_44[0][0]']          \n",
            "                                                                                                  \n",
            " block6_sepconv1_act (Activatio  (None, 13, 13, 728)  0          ['add_3[0][0]']                  \n",
            " n)                                                                                               \n",
            "                                                                                                  \n",
            " batch_normalization_49 (BatchN  (None, 10, 10, 160)  480        ['conv2d_49[0][0]']              \n",
            " ormalization)                                                                                    \n",
            "                                                                                                  \n",
            " block6_sepconv1 (SeparableConv  (None, 13, 13, 728)  536536     ['block6_sepconv1_act[0][0]']    \n",
            " 2D)                                                                                              \n",
            "                                                                                                  \n",
            " activation_45 (Activation)     (None, 10, 10, 160)  0           ['batch_normalization_49[0][0]'] \n",
            "                                                                                                  \n",
            " block6_sepconv1_bn (BatchNorma  (None, 13, 13, 728)  2912       ['block6_sepconv1[0][0]']        \n",
            " lization)                                                                                        \n",
            "                                                                                                  \n",
            " conv2d_45 (Conv2D)             (None, 10, 10, 160)  122880      ['mixed4[0][0]']                 \n",
            "                                                                                                  \n",
            " conv2d_50 (Conv2D)             (None, 10, 10, 160)  179200      ['activation_45[0][0]']          \n",
            "                                                                                                  \n",
            " block6_sepconv2_act (Activatio  (None, 13, 13, 728)  0          ['block6_sepconv1_bn[0][0]']     \n",
            " n)                                                                                               \n",
            "                                                                                                  \n",
            " batch_normalization_45 (BatchN  (None, 10, 10, 160)  480        ['conv2d_45[0][0]']              \n",
            " ormalization)                                                                                    \n",
            "                                                                                                  \n",
            " batch_normalization_50 (BatchN  (None, 10, 10, 160)  480        ['conv2d_50[0][0]']              \n",
            " ormalization)                                                                                    \n",
            "                                                                                                  \n",
            " block6_sepconv2 (SeparableConv  (None, 13, 13, 728)  536536     ['block6_sepconv2_act[0][0]']    \n",
            " 2D)                                                                                              \n",
            "                                                                                                  \n",
            " activation_41 (Activation)     (None, 10, 10, 160)  0           ['batch_normalization_45[0][0]'] \n",
            "                                                                                                  \n",
            " activation_46 (Activation)     (None, 10, 10, 160)  0           ['batch_normalization_50[0][0]'] \n",
            "                                                                                                  \n",
            " block6_sepconv2_bn (BatchNorma  (None, 13, 13, 728)  2912       ['block6_sepconv2[0][0]']        \n",
            " lization)                                                                                        \n",
            "                                                                                                  \n",
            " conv2d_46 (Conv2D)             (None, 10, 10, 160)  179200      ['activation_41[0][0]']          \n",
            "                                                                                                  \n",
            " conv2d_51 (Conv2D)             (None, 10, 10, 160)  179200      ['activation_46[0][0]']          \n",
            "                                                                                                  \n",
            " block6_sepconv3_act (Activatio  (None, 13, 13, 728)  0          ['block6_sepconv2_bn[0][0]']     \n",
            " n)                                                                                               \n",
            "                                                                                                  \n",
            " batch_normalization_46 (BatchN  (None, 10, 10, 160)  480        ['conv2d_46[0][0]']              \n",
            " ormalization)                                                                                    \n",
            "                                                                                                  \n",
            " batch_normalization_51 (BatchN  (None, 10, 10, 160)  480        ['conv2d_51[0][0]']              \n",
            " ormalization)                                                                                    \n",
            "                                                                                                  \n",
            " block6_sepconv3 (SeparableConv  (None, 13, 13, 728)  536536     ['block6_sepconv3_act[0][0]']    \n",
            " 2D)                                                                                              \n",
            "                                                                                                  \n",
            " activation_42 (Activation)     (None, 10, 10, 160)  0           ['batch_normalization_46[0][0]'] \n",
            "                                                                                                  \n",
            " activation_47 (Activation)     (None, 10, 10, 160)  0           ['batch_normalization_51[0][0]'] \n",
            "                                                                                                  \n",
            " average_pooling2d_4 (AveragePo  (None, 10, 10, 768)  0          ['mixed4[0][0]']                 \n",
            " oling2D)                                                                                         \n",
            "                                                                                                  \n",
            " block6_sepconv3_bn (BatchNorma  (None, 13, 13, 728)  2912       ['block6_sepconv3[0][0]']        \n",
            " lization)                                                                                        \n",
            "                                                                                                  \n",
            " conv2d_44 (Conv2D)             (None, 10, 10, 192)  147456      ['mixed4[0][0]']                 \n",
            "                                                                                                  \n",
            " conv2d_47 (Conv2D)             (None, 10, 10, 192)  215040      ['activation_42[0][0]']          \n",
            "                                                                                                  \n",
            " conv2d_52 (Conv2D)             (None, 10, 10, 192)  215040      ['activation_47[0][0]']          \n",
            "                                                                                                  \n",
            " conv2d_53 (Conv2D)             (None, 10, 10, 192)  147456      ['average_pooling2d_4[0][0]']    \n",
            "                                                                                                  \n",
            " add_4 (Add)                    (None, 13, 13, 728)  0           ['block6_sepconv3_bn[0][0]',     \n",
            "                                                                  'add_3[0][0]']                  \n",
            "                                                                                                  \n",
            " batch_normalization_44 (BatchN  (None, 10, 10, 192)  576        ['conv2d_44[0][0]']              \n",
            " ormalization)                                                                                    \n",
            "                                                                                                  \n",
            " batch_normalization_47 (BatchN  (None, 10, 10, 192)  576        ['conv2d_47[0][0]']              \n",
            " ormalization)                                                                                    \n",
            "                                                                                                  \n",
            " batch_normalization_52 (BatchN  (None, 10, 10, 192)  576        ['conv2d_52[0][0]']              \n",
            " ormalization)                                                                                    \n",
            "                                                                                                  \n",
            " batch_normalization_53 (BatchN  (None, 10, 10, 192)  576        ['conv2d_53[0][0]']              \n",
            " ormalization)                                                                                    \n",
            "                                                                                                  \n",
            " block7_sepconv1_act (Activatio  (None, 13, 13, 728)  0          ['add_4[0][0]']                  \n",
            " n)                                                                                               \n",
            "                                                                                                  \n",
            " activation_40 (Activation)     (None, 10, 10, 192)  0           ['batch_normalization_44[0][0]'] \n",
            "                                                                                                  \n",
            " activation_43 (Activation)     (None, 10, 10, 192)  0           ['batch_normalization_47[0][0]'] \n",
            "                                                                                                  \n",
            " activation_48 (Activation)     (None, 10, 10, 192)  0           ['batch_normalization_52[0][0]'] \n",
            "                                                                                                  \n",
            " activation_49 (Activation)     (None, 10, 10, 192)  0           ['batch_normalization_53[0][0]'] \n",
            "                                                                                                  \n",
            " block7_sepconv1 (SeparableConv  (None, 13, 13, 728)  536536     ['block7_sepconv1_act[0][0]']    \n",
            " 2D)                                                                                              \n",
            "                                                                                                  \n",
            " mixed5 (Concatenate)           (None, 10, 10, 768)  0           ['activation_40[0][0]',          \n",
            "                                                                  'activation_43[0][0]',          \n",
            "                                                                  'activation_48[0][0]',          \n",
            "                                                                  'activation_49[0][0]']          \n",
            "                                                                                                  \n",
            " block7_sepconv1_bn (BatchNorma  (None, 13, 13, 728)  2912       ['block7_sepconv1[0][0]']        \n",
            " lization)                                                                                        \n",
            "                                                                                                  \n",
            " conv2d_58 (Conv2D)             (None, 10, 10, 160)  122880      ['mixed5[0][0]']                 \n",
            "                                                                                                  \n",
            " block7_sepconv2_act (Activatio  (None, 13, 13, 728)  0          ['block7_sepconv1_bn[0][0]']     \n",
            " n)                                                                                               \n",
            "                                                                                                  \n",
            " batch_normalization_58 (BatchN  (None, 10, 10, 160)  480        ['conv2d_58[0][0]']              \n",
            " ormalization)                                                                                    \n",
            "                                                                                                  \n",
            " block7_sepconv2 (SeparableConv  (None, 13, 13, 728)  536536     ['block7_sepconv2_act[0][0]']    \n",
            " 2D)                                                                                              \n",
            "                                                                                                  \n",
            " activation_54 (Activation)     (None, 10, 10, 160)  0           ['batch_normalization_58[0][0]'] \n",
            "                                                                                                  \n",
            " block7_sepconv2_bn (BatchNorma  (None, 13, 13, 728)  2912       ['block7_sepconv2[0][0]']        \n",
            " lization)                                                                                        \n",
            "                                                                                                  \n",
            " conv2d_59 (Conv2D)             (None, 10, 10, 160)  179200      ['activation_54[0][0]']          \n",
            "                                                                                                  \n",
            " block7_sepconv3_act (Activatio  (None, 13, 13, 728)  0          ['block7_sepconv2_bn[0][0]']     \n",
            " n)                                                                                               \n",
            "                                                                                                  \n",
            " batch_normalization_59 (BatchN  (None, 10, 10, 160)  480        ['conv2d_59[0][0]']              \n",
            " ormalization)                                                                                    \n",
            "                                                                                                  \n",
            " block7_sepconv3 (SeparableConv  (None, 13, 13, 728)  536536     ['block7_sepconv3_act[0][0]']    \n",
            " 2D)                                                                                              \n",
            "                                                                                                  \n",
            " activation_55 (Activation)     (None, 10, 10, 160)  0           ['batch_normalization_59[0][0]'] \n",
            "                                                                                                  \n",
            " block7_sepconv3_bn (BatchNorma  (None, 13, 13, 728)  2912       ['block7_sepconv3[0][0]']        \n",
            " lization)                                                                                        \n",
            "                                                                                                  \n",
            " conv2d_55 (Conv2D)             (None, 10, 10, 160)  122880      ['mixed5[0][0]']                 \n",
            "                                                                                                  \n",
            " conv2d_60 (Conv2D)             (None, 10, 10, 160)  179200      ['activation_55[0][0]']          \n",
            "                                                                                                  \n",
            " add_5 (Add)                    (None, 13, 13, 728)  0           ['block7_sepconv3_bn[0][0]',     \n",
            "                                                                  'add_4[0][0]']                  \n",
            "                                                                                                  \n",
            " batch_normalization_55 (BatchN  (None, 10, 10, 160)  480        ['conv2d_55[0][0]']              \n",
            " ormalization)                                                                                    \n",
            "                                                                                                  \n",
            " batch_normalization_60 (BatchN  (None, 10, 10, 160)  480        ['conv2d_60[0][0]']              \n",
            " ormalization)                                                                                    \n",
            "                                                                                                  \n",
            " block8_sepconv1_act (Activatio  (None, 13, 13, 728)  0          ['add_5[0][0]']                  \n",
            " n)                                                                                               \n",
            "                                                                                                  \n",
            " activation_51 (Activation)     (None, 10, 10, 160)  0           ['batch_normalization_55[0][0]'] \n",
            "                                                                                                  \n",
            " activation_56 (Activation)     (None, 10, 10, 160)  0           ['batch_normalization_60[0][0]'] \n",
            "                                                                                                  \n",
            " block8_sepconv1 (SeparableConv  (None, 13, 13, 728)  536536     ['block8_sepconv1_act[0][0]']    \n",
            " 2D)                                                                                              \n",
            "                                                                                                  \n",
            " conv2d_56 (Conv2D)             (None, 10, 10, 160)  179200      ['activation_51[0][0]']          \n",
            "                                                                                                  \n",
            " conv2d_61 (Conv2D)             (None, 10, 10, 160)  179200      ['activation_56[0][0]']          \n",
            "                                                                                                  \n",
            " block8_sepconv1_bn (BatchNorma  (None, 13, 13, 728)  2912       ['block8_sepconv1[0][0]']        \n",
            " lization)                                                                                        \n",
            "                                                                                                  \n",
            " batch_normalization_56 (BatchN  (None, 10, 10, 160)  480        ['conv2d_56[0][0]']              \n",
            " ormalization)                                                                                    \n",
            "                                                                                                  \n",
            " batch_normalization_61 (BatchN  (None, 10, 10, 160)  480        ['conv2d_61[0][0]']              \n",
            " ormalization)                                                                                    \n",
            "                                                                                                  \n",
            " block8_sepconv2_act (Activatio  (None, 13, 13, 728)  0          ['block8_sepconv1_bn[0][0]']     \n",
            " n)                                                                                               \n",
            "                                                                                                  \n",
            " activation_52 (Activation)     (None, 10, 10, 160)  0           ['batch_normalization_56[0][0]'] \n",
            "                                                                                                  \n",
            " activation_57 (Activation)     (None, 10, 10, 160)  0           ['batch_normalization_61[0][0]'] \n",
            "                                                                                                  \n",
            " average_pooling2d_5 (AveragePo  (None, 10, 10, 768)  0          ['mixed5[0][0]']                 \n",
            " oling2D)                                                                                         \n",
            "                                                                                                  \n",
            " block8_sepconv2 (SeparableConv  (None, 13, 13, 728)  536536     ['block8_sepconv2_act[0][0]']    \n",
            " 2D)                                                                                              \n",
            "                                                                                                  \n",
            " conv2d_54 (Conv2D)             (None, 10, 10, 192)  147456      ['mixed5[0][0]']                 \n",
            "                                                                                                  \n",
            " conv2d_57 (Conv2D)             (None, 10, 10, 192)  215040      ['activation_52[0][0]']          \n",
            "                                                                                                  \n",
            " conv2d_62 (Conv2D)             (None, 10, 10, 192)  215040      ['activation_57[0][0]']          \n",
            "                                                                                                  \n",
            " conv2d_63 (Conv2D)             (None, 10, 10, 192)  147456      ['average_pooling2d_5[0][0]']    \n",
            "                                                                                                  \n",
            " block8_sepconv2_bn (BatchNorma  (None, 13, 13, 728)  2912       ['block8_sepconv2[0][0]']        \n",
            " lization)                                                                                        \n",
            "                                                                                                  \n",
            " batch_normalization_54 (BatchN  (None, 10, 10, 192)  576        ['conv2d_54[0][0]']              \n",
            " ormalization)                                                                                    \n",
            "                                                                                                  \n",
            " batch_normalization_57 (BatchN  (None, 10, 10, 192)  576        ['conv2d_57[0][0]']              \n",
            " ormalization)                                                                                    \n",
            "                                                                                                  \n",
            " batch_normalization_62 (BatchN  (None, 10, 10, 192)  576        ['conv2d_62[0][0]']              \n",
            " ormalization)                                                                                    \n",
            "                                                                                                  \n",
            " batch_normalization_63 (BatchN  (None, 10, 10, 192)  576        ['conv2d_63[0][0]']              \n",
            " ormalization)                                                                                    \n",
            "                                                                                                  \n",
            " block8_sepconv3_act (Activatio  (None, 13, 13, 728)  0          ['block8_sepconv2_bn[0][0]']     \n",
            " n)                                                                                               \n",
            "                                                                                                  \n",
            " activation_50 (Activation)     (None, 10, 10, 192)  0           ['batch_normalization_54[0][0]'] \n",
            "                                                                                                  \n",
            " activation_53 (Activation)     (None, 10, 10, 192)  0           ['batch_normalization_57[0][0]'] \n",
            "                                                                                                  \n",
            " activation_58 (Activation)     (None, 10, 10, 192)  0           ['batch_normalization_62[0][0]'] \n",
            "                                                                                                  \n",
            " activation_59 (Activation)     (None, 10, 10, 192)  0           ['batch_normalization_63[0][0]'] \n",
            "                                                                                                  \n",
            " block8_sepconv3 (SeparableConv  (None, 13, 13, 728)  536536     ['block8_sepconv3_act[0][0]']    \n",
            " 2D)                                                                                              \n",
            "                                                                                                  \n",
            " mixed6 (Concatenate)           (None, 10, 10, 768)  0           ['activation_50[0][0]',          \n",
            "                                                                  'activation_53[0][0]',          \n",
            "                                                                  'activation_58[0][0]',          \n",
            "                                                                  'activation_59[0][0]']          \n",
            "                                                                                                  \n",
            " block8_sepconv3_bn (BatchNorma  (None, 13, 13, 728)  2912       ['block8_sepconv3[0][0]']        \n",
            " lization)                                                                                        \n",
            "                                                                                                  \n",
            " conv2d_68 (Conv2D)             (None, 10, 10, 192)  147456      ['mixed6[0][0]']                 \n",
            "                                                                                                  \n",
            " add_6 (Add)                    (None, 13, 13, 728)  0           ['block8_sepconv3_bn[0][0]',     \n",
            "                                                                  'add_5[0][0]']                  \n",
            "                                                                                                  \n",
            " batch_normalization_68 (BatchN  (None, 10, 10, 192)  576        ['conv2d_68[0][0]']              \n",
            " ormalization)                                                                                    \n",
            "                                                                                                  \n",
            " block9_sepconv1_act (Activatio  (None, 13, 13, 728)  0          ['add_6[0][0]']                  \n",
            " n)                                                                                               \n",
            "                                                                                                  \n",
            " activation_64 (Activation)     (None, 10, 10, 192)  0           ['batch_normalization_68[0][0]'] \n",
            "                                                                                                  \n",
            " block9_sepconv1 (SeparableConv  (None, 13, 13, 728)  536536     ['block9_sepconv1_act[0][0]']    \n",
            " 2D)                                                                                              \n",
            "                                                                                                  \n",
            " conv2d_69 (Conv2D)             (None, 10, 10, 192)  258048      ['activation_64[0][0]']          \n",
            "                                                                                                  \n",
            " block9_sepconv1_bn (BatchNorma  (None, 13, 13, 728)  2912       ['block9_sepconv1[0][0]']        \n",
            " lization)                                                                                        \n",
            "                                                                                                  \n",
            " batch_normalization_69 (BatchN  (None, 10, 10, 192)  576        ['conv2d_69[0][0]']              \n",
            " ormalization)                                                                                    \n",
            "                                                                                                  \n",
            " block9_sepconv2_act (Activatio  (None, 13, 13, 728)  0          ['block9_sepconv1_bn[0][0]']     \n",
            " n)                                                                                               \n",
            "                                                                                                  \n",
            " activation_65 (Activation)     (None, 10, 10, 192)  0           ['batch_normalization_69[0][0]'] \n",
            "                                                                                                  \n",
            " block9_sepconv2 (SeparableConv  (None, 13, 13, 728)  536536     ['block9_sepconv2_act[0][0]']    \n",
            " 2D)                                                                                              \n",
            "                                                                                                  \n",
            " conv2d_65 (Conv2D)             (None, 10, 10, 192)  147456      ['mixed6[0][0]']                 \n",
            "                                                                                                  \n",
            " conv2d_70 (Conv2D)             (None, 10, 10, 192)  258048      ['activation_65[0][0]']          \n",
            "                                                                                                  \n",
            " block9_sepconv2_bn (BatchNorma  (None, 13, 13, 728)  2912       ['block9_sepconv2[0][0]']        \n",
            " lization)                                                                                        \n",
            "                                                                                                  \n",
            " batch_normalization_65 (BatchN  (None, 10, 10, 192)  576        ['conv2d_65[0][0]']              \n",
            " ormalization)                                                                                    \n",
            "                                                                                                  \n",
            " batch_normalization_70 (BatchN  (None, 10, 10, 192)  576        ['conv2d_70[0][0]']              \n",
            " ormalization)                                                                                    \n",
            "                                                                                                  \n",
            " block9_sepconv3_act (Activatio  (None, 13, 13, 728)  0          ['block9_sepconv2_bn[0][0]']     \n",
            " n)                                                                                               \n",
            "                                                                                                  \n",
            " activation_61 (Activation)     (None, 10, 10, 192)  0           ['batch_normalization_65[0][0]'] \n",
            "                                                                                                  \n",
            " activation_66 (Activation)     (None, 10, 10, 192)  0           ['batch_normalization_70[0][0]'] \n",
            "                                                                                                  \n",
            " block9_sepconv3 (SeparableConv  (None, 13, 13, 728)  536536     ['block9_sepconv3_act[0][0]']    \n",
            " 2D)                                                                                              \n",
            "                                                                                                  \n",
            " conv2d_66 (Conv2D)             (None, 10, 10, 192)  258048      ['activation_61[0][0]']          \n",
            "                                                                                                  \n",
            " conv2d_71 (Conv2D)             (None, 10, 10, 192)  258048      ['activation_66[0][0]']          \n",
            "                                                                                                  \n",
            " block9_sepconv3_bn (BatchNorma  (None, 13, 13, 728)  2912       ['block9_sepconv3[0][0]']        \n",
            " lization)                                                                                        \n",
            "                                                                                                  \n",
            " batch_normalization_66 (BatchN  (None, 10, 10, 192)  576        ['conv2d_66[0][0]']              \n",
            " ormalization)                                                                                    \n",
            "                                                                                                  \n",
            " batch_normalization_71 (BatchN  (None, 10, 10, 192)  576        ['conv2d_71[0][0]']              \n",
            " ormalization)                                                                                    \n",
            "                                                                                                  \n",
            " add_7 (Add)                    (None, 13, 13, 728)  0           ['block9_sepconv3_bn[0][0]',     \n",
            "                                                                  'add_6[0][0]']                  \n",
            "                                                                                                  \n",
            " activation_62 (Activation)     (None, 10, 10, 192)  0           ['batch_normalization_66[0][0]'] \n",
            "                                                                                                  \n",
            " activation_67 (Activation)     (None, 10, 10, 192)  0           ['batch_normalization_71[0][0]'] \n",
            "                                                                                                  \n",
            " average_pooling2d_6 (AveragePo  (None, 10, 10, 768)  0          ['mixed6[0][0]']                 \n",
            " oling2D)                                                                                         \n",
            "                                                                                                  \n",
            " block10_sepconv1_act (Activati  (None, 13, 13, 728)  0          ['add_7[0][0]']                  \n",
            " on)                                                                                              \n",
            "                                                                                                  \n",
            " conv2d_64 (Conv2D)             (None, 10, 10, 192)  147456      ['mixed6[0][0]']                 \n",
            "                                                                                                  \n",
            " conv2d_67 (Conv2D)             (None, 10, 10, 192)  258048      ['activation_62[0][0]']          \n",
            "                                                                                                  \n",
            " conv2d_72 (Conv2D)             (None, 10, 10, 192)  258048      ['activation_67[0][0]']          \n",
            "                                                                                                  \n",
            " conv2d_73 (Conv2D)             (None, 10, 10, 192)  147456      ['average_pooling2d_6[0][0]']    \n",
            "                                                                                                  \n",
            " block10_sepconv1 (SeparableCon  (None, 13, 13, 728)  536536     ['block10_sepconv1_act[0][0]']   \n",
            " v2D)                                                                                             \n",
            "                                                                                                  \n",
            " batch_normalization_64 (BatchN  (None, 10, 10, 192)  576        ['conv2d_64[0][0]']              \n",
            " ormalization)                                                                                    \n",
            "                                                                                                  \n",
            " batch_normalization_67 (BatchN  (None, 10, 10, 192)  576        ['conv2d_67[0][0]']              \n",
            " ormalization)                                                                                    \n",
            "                                                                                                  \n",
            " batch_normalization_72 (BatchN  (None, 10, 10, 192)  576        ['conv2d_72[0][0]']              \n",
            " ormalization)                                                                                    \n",
            "                                                                                                  \n",
            " batch_normalization_73 (BatchN  (None, 10, 10, 192)  576        ['conv2d_73[0][0]']              \n",
            " ormalization)                                                                                    \n",
            "                                                                                                  \n",
            " block10_sepconv1_bn (BatchNorm  (None, 13, 13, 728)  2912       ['block10_sepconv1[0][0]']       \n",
            " alization)                                                                                       \n",
            "                                                                                                  \n",
            " activation_60 (Activation)     (None, 10, 10, 192)  0           ['batch_normalization_64[0][0]'] \n",
            "                                                                                                  \n",
            " activation_63 (Activation)     (None, 10, 10, 192)  0           ['batch_normalization_67[0][0]'] \n",
            "                                                                                                  \n",
            " activation_68 (Activation)     (None, 10, 10, 192)  0           ['batch_normalization_72[0][0]'] \n",
            "                                                                                                  \n",
            " activation_69 (Activation)     (None, 10, 10, 192)  0           ['batch_normalization_73[0][0]'] \n",
            "                                                                                                  \n",
            " block10_sepconv2_act (Activati  (None, 13, 13, 728)  0          ['block10_sepconv1_bn[0][0]']    \n",
            " on)                                                                                              \n",
            "                                                                                                  \n",
            " mixed7 (Concatenate)           (None, 10, 10, 768)  0           ['activation_60[0][0]',          \n",
            "                                                                  'activation_63[0][0]',          \n",
            "                                                                  'activation_68[0][0]',          \n",
            "                                                                  'activation_69[0][0]']          \n",
            "                                                                                                  \n",
            " block10_sepconv2 (SeparableCon  (None, 13, 13, 728)  536536     ['block10_sepconv2_act[0][0]']   \n",
            " v2D)                                                                                             \n",
            "                                                                                                  \n",
            " conv2d_76 (Conv2D)             (None, 10, 10, 192)  147456      ['mixed7[0][0]']                 \n",
            "                                                                                                  \n",
            " block10_sepconv2_bn (BatchNorm  (None, 13, 13, 728)  2912       ['block10_sepconv2[0][0]']       \n",
            " alization)                                                                                       \n",
            "                                                                                                  \n",
            " batch_normalization_76 (BatchN  (None, 10, 10, 192)  576        ['conv2d_76[0][0]']              \n",
            " ormalization)                                                                                    \n",
            "                                                                                                  \n",
            " block10_sepconv3_act (Activati  (None, 13, 13, 728)  0          ['block10_sepconv2_bn[0][0]']    \n",
            " on)                                                                                              \n",
            "                                                                                                  \n",
            " activation_72 (Activation)     (None, 10, 10, 192)  0           ['batch_normalization_76[0][0]'] \n",
            "                                                                                                  \n",
            " block10_sepconv3 (SeparableCon  (None, 13, 13, 728)  536536     ['block10_sepconv3_act[0][0]']   \n",
            " v2D)                                                                                             \n",
            "                                                                                                  \n",
            " conv2d_77 (Conv2D)             (None, 10, 10, 192)  258048      ['activation_72[0][0]']          \n",
            "                                                                                                  \n",
            " block10_sepconv3_bn (BatchNorm  (None, 13, 13, 728)  2912       ['block10_sepconv3[0][0]']       \n",
            " alization)                                                                                       \n",
            "                                                                                                  \n",
            " batch_normalization_77 (BatchN  (None, 10, 10, 192)  576        ['conv2d_77[0][0]']              \n",
            " ormalization)                                                                                    \n",
            "                                                                                                  \n",
            " add_8 (Add)                    (None, 13, 13, 728)  0           ['block10_sepconv3_bn[0][0]',    \n",
            "                                                                  'add_7[0][0]']                  \n",
            "                                                                                                  \n",
            " activation_73 (Activation)     (None, 10, 10, 192)  0           ['batch_normalization_77[0][0]'] \n",
            "                                                                                                  \n",
            " block11_sepconv1_act (Activati  (None, 13, 13, 728)  0          ['add_8[0][0]']                  \n",
            " on)                                                                                              \n",
            "                                                                                                  \n",
            " conv2d_74 (Conv2D)             (None, 10, 10, 192)  147456      ['mixed7[0][0]']                 \n",
            "                                                                                                  \n",
            " conv2d_78 (Conv2D)             (None, 10, 10, 192)  258048      ['activation_73[0][0]']          \n",
            "                                                                                                  \n",
            " block11_sepconv1 (SeparableCon  (None, 13, 13, 728)  536536     ['block11_sepconv1_act[0][0]']   \n",
            " v2D)                                                                                             \n",
            "                                                                                                  \n",
            " batch_normalization_74 (BatchN  (None, 10, 10, 192)  576        ['conv2d_74[0][0]']              \n",
            " ormalization)                                                                                    \n",
            "                                                                                                  \n",
            " batch_normalization_78 (BatchN  (None, 10, 10, 192)  576        ['conv2d_78[0][0]']              \n",
            " ormalization)                                                                                    \n",
            "                                                                                                  \n",
            " block11_sepconv1_bn (BatchNorm  (None, 13, 13, 728)  2912       ['block11_sepconv1[0][0]']       \n",
            " alization)                                                                                       \n",
            "                                                                                                  \n",
            " activation_70 (Activation)     (None, 10, 10, 192)  0           ['batch_normalization_74[0][0]'] \n",
            "                                                                                                  \n",
            " activation_74 (Activation)     (None, 10, 10, 192)  0           ['batch_normalization_78[0][0]'] \n",
            "                                                                                                  \n",
            " block11_sepconv2_act (Activati  (None, 13, 13, 728)  0          ['block11_sepconv1_bn[0][0]']    \n",
            " on)                                                                                              \n",
            "                                                                                                  \n",
            " conv2d_75 (Conv2D)             (None, 4, 4, 320)    552960      ['activation_70[0][0]']          \n",
            "                                                                                                  \n",
            " conv2d_79 (Conv2D)             (None, 4, 4, 192)    331776      ['activation_74[0][0]']          \n",
            "                                                                                                  \n",
            " block11_sepconv2 (SeparableCon  (None, 13, 13, 728)  536536     ['block11_sepconv2_act[0][0]']   \n",
            " v2D)                                                                                             \n",
            "                                                                                                  \n",
            " batch_normalization_75 (BatchN  (None, 4, 4, 320)   960         ['conv2d_75[0][0]']              \n",
            " ormalization)                                                                                    \n",
            "                                                                                                  \n",
            " batch_normalization_79 (BatchN  (None, 4, 4, 192)   576         ['conv2d_79[0][0]']              \n",
            " ormalization)                                                                                    \n",
            "                                                                                                  \n",
            " block11_sepconv2_bn (BatchNorm  (None, 13, 13, 728)  2912       ['block11_sepconv2[0][0]']       \n",
            " alization)                                                                                       \n",
            "                                                                                                  \n",
            " activation_71 (Activation)     (None, 4, 4, 320)    0           ['batch_normalization_75[0][0]'] \n",
            "                                                                                                  \n",
            " activation_75 (Activation)     (None, 4, 4, 192)    0           ['batch_normalization_79[0][0]'] \n",
            "                                                                                                  \n",
            " max_pooling2d_3 (MaxPooling2D)  (None, 4, 4, 768)   0           ['mixed7[0][0]']                 \n",
            "                                                                                                  \n",
            " block11_sepconv3_act (Activati  (None, 13, 13, 728)  0          ['block11_sepconv2_bn[0][0]']    \n",
            " on)                                                                                              \n",
            "                                                                                                  \n",
            " mixed8 (Concatenate)           (None, 4, 4, 1280)   0           ['activation_71[0][0]',          \n",
            "                                                                  'activation_75[0][0]',          \n",
            "                                                                  'max_pooling2d_3[0][0]']        \n",
            "                                                                                                  \n",
            " block11_sepconv3 (SeparableCon  (None, 13, 13, 728)  536536     ['block11_sepconv3_act[0][0]']   \n",
            " v2D)                                                                                             \n",
            "                                                                                                  \n",
            " conv2d_84 (Conv2D)             (None, 4, 4, 448)    573440      ['mixed8[0][0]']                 \n",
            "                                                                                                  \n",
            " block11_sepconv3_bn (BatchNorm  (None, 13, 13, 728)  2912       ['block11_sepconv3[0][0]']       \n",
            " alization)                                                                                       \n",
            "                                                                                                  \n",
            " batch_normalization_84 (BatchN  (None, 4, 4, 448)   1344        ['conv2d_84[0][0]']              \n",
            " ormalization)                                                                                    \n",
            "                                                                                                  \n",
            " add_9 (Add)                    (None, 13, 13, 728)  0           ['block11_sepconv3_bn[0][0]',    \n",
            "                                                                  'add_8[0][0]']                  \n",
            "                                                                                                  \n",
            " activation_80 (Activation)     (None, 4, 4, 448)    0           ['batch_normalization_84[0][0]'] \n",
            "                                                                                                  \n",
            " block12_sepconv1_act (Activati  (None, 13, 13, 728)  0          ['add_9[0][0]']                  \n",
            " on)                                                                                              \n",
            "                                                                                                  \n",
            " conv2d_81 (Conv2D)             (None, 4, 4, 384)    491520      ['mixed8[0][0]']                 \n",
            "                                                                                                  \n",
            " conv2d_85 (Conv2D)             (None, 4, 4, 384)    1548288     ['activation_80[0][0]']          \n",
            "                                                                                                  \n",
            " block12_sepconv1 (SeparableCon  (None, 13, 13, 728)  536536     ['block12_sepconv1_act[0][0]']   \n",
            " v2D)                                                                                             \n",
            "                                                                                                  \n",
            " batch_normalization_81 (BatchN  (None, 4, 4, 384)   1152        ['conv2d_81[0][0]']              \n",
            " ormalization)                                                                                    \n",
            "                                                                                                  \n",
            " batch_normalization_85 (BatchN  (None, 4, 4, 384)   1152        ['conv2d_85[0][0]']              \n",
            " ormalization)                                                                                    \n",
            "                                                                                                  \n",
            " block12_sepconv1_bn (BatchNorm  (None, 13, 13, 728)  2912       ['block12_sepconv1[0][0]']       \n",
            " alization)                                                                                       \n",
            "                                                                                                  \n",
            " activation_77 (Activation)     (None, 4, 4, 384)    0           ['batch_normalization_81[0][0]'] \n",
            "                                                                                                  \n",
            " activation_81 (Activation)     (None, 4, 4, 384)    0           ['batch_normalization_85[0][0]'] \n",
            "                                                                                                  \n",
            " block12_sepconv2_act (Activati  (None, 13, 13, 728)  0          ['block12_sepconv1_bn[0][0]']    \n",
            " on)                                                                                              \n",
            "                                                                                                  \n",
            " conv2d_82 (Conv2D)             (None, 4, 4, 384)    442368      ['activation_77[0][0]']          \n",
            "                                                                                                  \n",
            " conv2d_83 (Conv2D)             (None, 4, 4, 384)    442368      ['activation_77[0][0]']          \n",
            "                                                                                                  \n",
            " conv2d_86 (Conv2D)             (None, 4, 4, 384)    442368      ['activation_81[0][0]']          \n",
            "                                                                                                  \n",
            " conv2d_87 (Conv2D)             (None, 4, 4, 384)    442368      ['activation_81[0][0]']          \n",
            "                                                                                                  \n",
            " average_pooling2d_7 (AveragePo  (None, 4, 4, 1280)  0           ['mixed8[0][0]']                 \n",
            " oling2D)                                                                                         \n",
            "                                                                                                  \n",
            " block12_sepconv2 (SeparableCon  (None, 13, 13, 728)  536536     ['block12_sepconv2_act[0][0]']   \n",
            " v2D)                                                                                             \n",
            "                                                                                                  \n",
            " conv2d_80 (Conv2D)             (None, 4, 4, 320)    409600      ['mixed8[0][0]']                 \n",
            "                                                                                                  \n",
            " batch_normalization_82 (BatchN  (None, 4, 4, 384)   1152        ['conv2d_82[0][0]']              \n",
            " ormalization)                                                                                    \n",
            "                                                                                                  \n",
            " batch_normalization_83 (BatchN  (None, 4, 4, 384)   1152        ['conv2d_83[0][0]']              \n",
            " ormalization)                                                                                    \n",
            "                                                                                                  \n",
            " batch_normalization_86 (BatchN  (None, 4, 4, 384)   1152        ['conv2d_86[0][0]']              \n",
            " ormalization)                                                                                    \n",
            "                                                                                                  \n",
            " batch_normalization_87 (BatchN  (None, 4, 4, 384)   1152        ['conv2d_87[0][0]']              \n",
            " ormalization)                                                                                    \n",
            "                                                                                                  \n",
            " conv2d_88 (Conv2D)             (None, 4, 4, 192)    245760      ['average_pooling2d_7[0][0]']    \n",
            "                                                                                                  \n",
            " block12_sepconv2_bn (BatchNorm  (None, 13, 13, 728)  2912       ['block12_sepconv2[0][0]']       \n",
            " alization)                                                                                       \n",
            "                                                                                                  \n",
            " batch_normalization_80 (BatchN  (None, 4, 4, 320)   960         ['conv2d_80[0][0]']              \n",
            " ormalization)                                                                                    \n",
            "                                                                                                  \n",
            " activation_78 (Activation)     (None, 4, 4, 384)    0           ['batch_normalization_82[0][0]'] \n",
            "                                                                                                  \n",
            " activation_79 (Activation)     (None, 4, 4, 384)    0           ['batch_normalization_83[0][0]'] \n",
            "                                                                                                  \n",
            " activation_82 (Activation)     (None, 4, 4, 384)    0           ['batch_normalization_86[0][0]'] \n",
            "                                                                                                  \n",
            " activation_83 (Activation)     (None, 4, 4, 384)    0           ['batch_normalization_87[0][0]'] \n",
            "                                                                                                  \n",
            " batch_normalization_88 (BatchN  (None, 4, 4, 192)   576         ['conv2d_88[0][0]']              \n",
            " ormalization)                                                                                    \n",
            "                                                                                                  \n",
            " block12_sepconv3_act (Activati  (None, 13, 13, 728)  0          ['block12_sepconv2_bn[0][0]']    \n",
            " on)                                                                                              \n",
            "                                                                                                  \n",
            " activation_76 (Activation)     (None, 4, 4, 320)    0           ['batch_normalization_80[0][0]'] \n",
            "                                                                                                  \n",
            " mixed9_0 (Concatenate)         (None, 4, 4, 768)    0           ['activation_78[0][0]',          \n",
            "                                                                  'activation_79[0][0]']          \n",
            "                                                                                                  \n",
            " concatenate (Concatenate)      (None, 4, 4, 768)    0           ['activation_82[0][0]',          \n",
            "                                                                  'activation_83[0][0]']          \n",
            "                                                                                                  \n",
            " activation_84 (Activation)     (None, 4, 4, 192)    0           ['batch_normalization_88[0][0]'] \n",
            "                                                                                                  \n",
            " block12_sepconv3 (SeparableCon  (None, 13, 13, 728)  536536     ['block12_sepconv3_act[0][0]']   \n",
            " v2D)                                                                                             \n",
            "                                                                                                  \n",
            " mixed9 (Concatenate)           (None, 4, 4, 2048)   0           ['activation_76[0][0]',          \n",
            "                                                                  'mixed9_0[0][0]',               \n",
            "                                                                  'concatenate[0][0]',            \n",
            "                                                                  'activation_84[0][0]']          \n",
            "                                                                                                  \n",
            " block12_sepconv3_bn (BatchNorm  (None, 13, 13, 728)  2912       ['block12_sepconv3[0][0]']       \n",
            " alization)                                                                                       \n",
            "                                                                                                  \n",
            " conv2d_93 (Conv2D)             (None, 4, 4, 448)    917504      ['mixed9[0][0]']                 \n",
            "                                                                                                  \n",
            " add_10 (Add)                   (None, 13, 13, 728)  0           ['block12_sepconv3_bn[0][0]',    \n",
            "                                                                  'add_9[0][0]']                  \n",
            "                                                                                                  \n",
            " batch_normalization_93 (BatchN  (None, 4, 4, 448)   1344        ['conv2d_93[0][0]']              \n",
            " ormalization)                                                                                    \n",
            "                                                                                                  \n",
            " block13_sepconv1_act (Activati  (None, 13, 13, 728)  0          ['add_10[0][0]']                 \n",
            " on)                                                                                              \n",
            "                                                                                                  \n",
            " activation_89 (Activation)     (None, 4, 4, 448)    0           ['batch_normalization_93[0][0]'] \n",
            "                                                                                                  \n",
            " block13_sepconv1 (SeparableCon  (None, 13, 13, 728)  536536     ['block13_sepconv1_act[0][0]']   \n",
            " v2D)                                                                                             \n",
            "                                                                                                  \n",
            " conv2d_90 (Conv2D)             (None, 4, 4, 384)    786432      ['mixed9[0][0]']                 \n",
            "                                                                                                  \n",
            " conv2d_94 (Conv2D)             (None, 4, 4, 384)    1548288     ['activation_89[0][0]']          \n",
            "                                                                                                  \n",
            " block13_sepconv1_bn (BatchNorm  (None, 13, 13, 728)  2912       ['block13_sepconv1[0][0]']       \n",
            " alization)                                                                                       \n",
            "                                                                                                  \n",
            " batch_normalization_90 (BatchN  (None, 4, 4, 384)   1152        ['conv2d_90[0][0]']              \n",
            " ormalization)                                                                                    \n",
            "                                                                                                  \n",
            " batch_normalization_94 (BatchN  (None, 4, 4, 384)   1152        ['conv2d_94[0][0]']              \n",
            " ormalization)                                                                                    \n",
            "                                                                                                  \n",
            " block13_sepconv2_act (Activati  (None, 13, 13, 728)  0          ['block13_sepconv1_bn[0][0]']    \n",
            " on)                                                                                              \n",
            "                                                                                                  \n",
            " activation_86 (Activation)     (None, 4, 4, 384)    0           ['batch_normalization_90[0][0]'] \n",
            "                                                                                                  \n",
            " activation_90 (Activation)     (None, 4, 4, 384)    0           ['batch_normalization_94[0][0]'] \n",
            "                                                                                                  \n",
            " block13_sepconv2 (SeparableCon  (None, 13, 13, 1024  752024     ['block13_sepconv2_act[0][0]']   \n",
            " v2D)                           )                                                                 \n",
            "                                                                                                  \n",
            " conv2d_91 (Conv2D)             (None, 4, 4, 384)    442368      ['activation_86[0][0]']          \n",
            "                                                                                                  \n",
            " conv2d_92 (Conv2D)             (None, 4, 4, 384)    442368      ['activation_86[0][0]']          \n",
            "                                                                                                  \n",
            " conv2d_95 (Conv2D)             (None, 4, 4, 384)    442368      ['activation_90[0][0]']          \n",
            "                                                                                                  \n",
            " conv2d_96 (Conv2D)             (None, 4, 4, 384)    442368      ['activation_90[0][0]']          \n",
            "                                                                                                  \n",
            " average_pooling2d_8 (AveragePo  (None, 4, 4, 2048)  0           ['mixed9[0][0]']                 \n",
            " oling2D)                                                                                         \n",
            "                                                                                                  \n",
            " block13_sepconv2_bn (BatchNorm  (None, 13, 13, 1024  4096       ['block13_sepconv2[0][0]']       \n",
            " alization)                     )                                                                 \n",
            "                                                                                                  \n",
            " conv2d_3 (Conv2D)              (None, 7, 7, 1024)   745472      ['add_10[0][0]']                 \n",
            "                                                                                                  \n",
            " conv2d_89 (Conv2D)             (None, 4, 4, 320)    655360      ['mixed9[0][0]']                 \n",
            "                                                                                                  \n",
            " batch_normalization_91 (BatchN  (None, 4, 4, 384)   1152        ['conv2d_91[0][0]']              \n",
            " ormalization)                                                                                    \n",
            "                                                                                                  \n",
            " batch_normalization_92 (BatchN  (None, 4, 4, 384)   1152        ['conv2d_92[0][0]']              \n",
            " ormalization)                                                                                    \n",
            "                                                                                                  \n",
            " batch_normalization_95 (BatchN  (None, 4, 4, 384)   1152        ['conv2d_95[0][0]']              \n",
            " ormalization)                                                                                    \n",
            "                                                                                                  \n",
            " batch_normalization_96 (BatchN  (None, 4, 4, 384)   1152        ['conv2d_96[0][0]']              \n",
            " ormalization)                                                                                    \n",
            "                                                                                                  \n",
            " conv2d_97 (Conv2D)             (None, 4, 4, 192)    393216      ['average_pooling2d_8[0][0]']    \n",
            "                                                                                                  \n",
            " block13_pool (MaxPooling2D)    (None, 7, 7, 1024)   0           ['block13_sepconv2_bn[0][0]']    \n",
            "                                                                                                  \n",
            " batch_normalization_3 (BatchNo  (None, 7, 7, 1024)  4096        ['conv2d_3[0][0]']               \n",
            " rmalization)                                                                                     \n",
            "                                                                                                  \n",
            " batch_normalization_89 (BatchN  (None, 4, 4, 320)   960         ['conv2d_89[0][0]']              \n",
            " ormalization)                                                                                    \n",
            "                                                                                                  \n",
            " activation_87 (Activation)     (None, 4, 4, 384)    0           ['batch_normalization_91[0][0]'] \n",
            "                                                                                                  \n",
            " activation_88 (Activation)     (None, 4, 4, 384)    0           ['batch_normalization_92[0][0]'] \n",
            "                                                                                                  \n",
            " activation_91 (Activation)     (None, 4, 4, 384)    0           ['batch_normalization_95[0][0]'] \n",
            "                                                                                                  \n",
            " activation_92 (Activation)     (None, 4, 4, 384)    0           ['batch_normalization_96[0][0]'] \n",
            "                                                                                                  \n",
            " batch_normalization_97 (BatchN  (None, 4, 4, 192)   576         ['conv2d_97[0][0]']              \n",
            " ormalization)                                                                                    \n",
            "                                                                                                  \n",
            " add_11 (Add)                   (None, 7, 7, 1024)   0           ['block13_pool[0][0]',           \n",
            "                                                                  'batch_normalization_3[0][0]']  \n",
            "                                                                                                  \n",
            " activation_85 (Activation)     (None, 4, 4, 320)    0           ['batch_normalization_89[0][0]'] \n",
            "                                                                                                  \n",
            " mixed9_1 (Concatenate)         (None, 4, 4, 768)    0           ['activation_87[0][0]',          \n",
            "                                                                  'activation_88[0][0]']          \n",
            "                                                                                                  \n",
            " concatenate_1 (Concatenate)    (None, 4, 4, 768)    0           ['activation_91[0][0]',          \n",
            "                                                                  'activation_92[0][0]']          \n",
            "                                                                                                  \n",
            " activation_93 (Activation)     (None, 4, 4, 192)    0           ['batch_normalization_97[0][0]'] \n",
            "                                                                                                  \n",
            " block14_sepconv1 (SeparableCon  (None, 7, 7, 1536)  1582080     ['add_11[0][0]']                 \n",
            " v2D)                                                                                             \n",
            "                                                                                                  \n",
            " mixed10 (Concatenate)          (None, 4, 4, 2048)   0           ['activation_85[0][0]',          \n",
            "                                                                  'mixed9_1[0][0]',               \n",
            "                                                                  'concatenate_1[0][0]',          \n",
            "                                                                  'activation_93[0][0]']          \n",
            "                                                                                                  \n",
            " global_max_pooling2d (GlobalMa  (None, 1536)        0           ['block14_sepconv1[0][0]']       \n",
            " xPooling2D)                                                                                      \n",
            "                                                                                                  \n",
            " global_max_pooling2d_1 (Global  (None, 768)         0           ['mixed7[0][0]']                 \n",
            " MaxPooling2D)                                                                                    \n",
            "                                                                                                  \n",
            " global_max_pooling2d_2 (Global  (None, 1280)        0           ['mixed8[0][0]']                 \n",
            " MaxPooling2D)                                                                                    \n",
            "                                                                                                  \n",
            " global_max_pooling2d_3 (Global  (None, 2048)        0           ['mixed9[0][0]']                 \n",
            " MaxPooling2D)                                                                                    \n",
            "                                                                                                  \n",
            " global_max_pooling2d_4 (Global  (None, 2048)        0           ['mixed10[0][0]']                \n",
            " MaxPooling2D)                                                                                    \n",
            "                                                                                                  \n",
            " concatenate_2 (Concatenate)    (None, 7680)         0           ['global_max_pooling2d[0][0]',   \n",
            "                                                                  'global_max_pooling2d_1[0][0]', \n",
            "                                                                  'global_max_pooling2d_2[0][0]', \n",
            "                                                                  'global_max_pooling2d_3[0][0]', \n",
            "                                                                  'global_max_pooling2d_4[0][0]'] \n",
            "                                                                                                  \n",
            " dense (Dense)                  (None, 512)          3932672     ['concatenate_2[0][0]']          \n",
            "                                                                                                  \n",
            " dropout (Dropout)              (None, 512)          0           ['dense[0][0]']                  \n",
            "                                                                                                  \n",
            " dense_1 (Dense)                (None, 4)            2052        ['dropout[0][0]']                \n",
            "                                                                                                  \n",
            "==================================================================================================\n",
            "Total params: 43,425,100\n",
            "Trainable params: 43,343,308\n",
            "Non-trainable params: 81,792\n",
            "__________________________________________________________________________________________________\n"
          ]
        }
      ],
      "source": [
        "model.summary()"
      ]
    },
    {
      "cell_type": "code",
      "execution_count": 21,
      "id": "1eb2d5a4-de30-4605-a355-99276f94c72a",
      "metadata": {
        "id": "1eb2d5a4-de30-4605-a355-99276f94c72a",
        "outputId": "1417758f-ad56-49f1-f08b-d61aa1377a08",
        "colab": {
          "base_uri": "https://localhost:8080/"
        }
      },
      "outputs": [
        {
          "output_type": "stream",
          "name": "stderr",
          "text": [
            "<ipython-input-21-ad5d8cf208b1>:3: UserWarning: `Model.fit_generator` is deprecated and will be removed in a future version. Please use `Model.fit`, which supports generators.\n",
            "  history = model.fit_generator(train_datagen.flow(x_train,y_train, batch_size=batch_size),\n"
          ]
        },
        {
          "output_type": "stream",
          "name": "stdout",
          "text": [
            "Epoch 1/30\n",
            "37/37 [==============================] - 89s 1s/step - loss: 1.1734 - acc: 0.6318 - val_loss: 0.7696 - val_acc: 0.7222 - lr: 1.0000e-04\n",
            "Epoch 2/30\n",
            "37/37 [==============================] - 54s 1s/step - loss: 0.3979 - acc: 0.8574 - val_loss: 0.5800 - val_acc: 0.7812 - lr: 1.0000e-04\n",
            "Epoch 3/30\n",
            "37/37 [==============================] - 47s 1s/step - loss: 0.2885 - acc: 0.8943 - val_loss: 0.4640 - val_acc: 0.8472 - lr: 1.0000e-04\n",
            "Epoch 4/30\n",
            "37/37 [==============================] - 47s 1s/step - loss: 0.2278 - acc: 0.9238 - val_loss: 0.2254 - val_acc: 0.9306 - lr: 1.0000e-04\n",
            "Epoch 5/30\n",
            "37/37 [==============================] - 48s 1s/step - loss: 0.1671 - acc: 0.9414 - val_loss: 0.4270 - val_acc: 0.8646 - lr: 1.0000e-04\n",
            "Epoch 6/30\n",
            "37/37 [==============================] - 48s 1s/step - loss: 0.1277 - acc: 0.9516 - val_loss: 0.2591 - val_acc: 0.9271 - lr: 1.0000e-04\n",
            "Epoch 7/30\n",
            "37/37 [==============================] - 49s 1s/step - loss: 0.1409 - acc: 0.9452 - val_loss: 0.1069 - val_acc: 0.9653 - lr: 1.0000e-04\n",
            "Epoch 8/30\n",
            "37/37 [==============================] - 47s 1s/step - loss: 0.0989 - acc: 0.9662 - val_loss: 0.1524 - val_acc: 0.9479 - lr: 1.0000e-04\n",
            "Epoch 9/30\n",
            "37/37 [==============================] - 48s 1s/step - loss: 0.0888 - acc: 0.9675 - val_loss: 0.0931 - val_acc: 0.9583 - lr: 1.0000e-04\n",
            "Epoch 10/30\n",
            "37/37 [==============================] - 48s 1s/step - loss: 0.0803 - acc: 0.9743 - val_loss: 0.0805 - val_acc: 0.9688 - lr: 1.0000e-04\n",
            "Epoch 11/30\n",
            "37/37 [==============================] - 50s 1s/step - loss: 0.0840 - acc: 0.9738 - val_loss: 0.1504 - val_acc: 0.9583 - lr: 1.0000e-04\n",
            "Epoch 12/30\n",
            "37/37 [==============================] - 47s 1s/step - loss: 0.0615 - acc: 0.9803 - val_loss: 0.1849 - val_acc: 0.9549 - lr: 1.0000e-04\n",
            "Epoch 13/30\n",
            "37/37 [==============================] - 48s 1s/step - loss: 0.0629 - acc: 0.9747 - val_loss: 0.0610 - val_acc: 0.9792 - lr: 1.0000e-04\n",
            "Epoch 14/30\n",
            "37/37 [==============================] - 48s 1s/step - loss: 0.0476 - acc: 0.9824 - val_loss: 0.1352 - val_acc: 0.9653 - lr: 1.0000e-04\n",
            "Epoch 15/30\n",
            "37/37 [==============================] - 47s 1s/step - loss: 0.0420 - acc: 0.9846 - val_loss: 0.0287 - val_acc: 0.9896 - lr: 1.0000e-04\n",
            "Epoch 16/30\n",
            "37/37 [==============================] - 49s 1s/step - loss: 0.0506 - acc: 0.9859 - val_loss: 0.0861 - val_acc: 0.9722 - lr: 1.0000e-04\n",
            "Epoch 17/30\n",
            "37/37 [==============================] - 48s 1s/step - loss: 0.0319 - acc: 0.9893 - val_loss: 0.1250 - val_acc: 0.9583 - lr: 1.0000e-04\n",
            "Epoch 18/30\n",
            "37/37 [==============================] - ETA: 0s - loss: 0.0466 - acc: 0.9863\n",
            "Epoch 18: ReduceLROnPlateau reducing learning rate to 4.999999873689376e-05.\n",
            "37/37 [==============================] - 48s 1s/step - loss: 0.0466 - acc: 0.9863 - val_loss: 0.1549 - val_acc: 0.9618 - lr: 1.0000e-04\n",
            "Epoch 19/30\n",
            "37/37 [==============================] - 48s 1s/step - loss: 0.0397 - acc: 0.9880 - val_loss: 0.0940 - val_acc: 0.9826 - lr: 5.0000e-05\n",
            "Epoch 20/30\n",
            "37/37 [==============================] - 47s 1s/step - loss: 0.0246 - acc: 0.9897 - val_loss: 0.0602 - val_acc: 0.9757 - lr: 5.0000e-05\n",
            "Epoch 21/30\n",
            "37/37 [==============================] - 47s 1s/step - loss: 0.0166 - acc: 0.9949 - val_loss: 0.0814 - val_acc: 0.9826 - lr: 5.0000e-05\n",
            "Epoch 22/30\n",
            "37/37 [==============================] - ETA: 0s - loss: 0.0132 - acc: 0.9940\n",
            "Epoch 22: ReduceLROnPlateau reducing learning rate to 2.499999936844688e-05.\n",
            "37/37 [==============================] - 48s 1s/step - loss: 0.0132 - acc: 0.9940 - val_loss: 0.0492 - val_acc: 0.9826 - lr: 5.0000e-05\n",
            "Epoch 23/30\n",
            "37/37 [==============================] - 47s 1s/step - loss: 0.0114 - acc: 0.9966 - val_loss: 0.0635 - val_acc: 0.9896 - lr: 2.5000e-05\n",
            "Epoch 24/30\n",
            "37/37 [==============================] - 47s 1s/step - loss: 0.0081 - acc: 0.9957 - val_loss: 0.0369 - val_acc: 0.9861 - lr: 2.5000e-05\n",
            "Epoch 25/30\n",
            "37/37 [==============================] - 47s 1s/step - loss: 0.0119 - acc: 0.9957 - val_loss: 0.0736 - val_acc: 0.9896 - lr: 2.5000e-05\n",
            "Epoch 26/30\n",
            "37/37 [==============================] - 48s 1s/step - loss: 0.0124 - acc: 0.9957 - val_loss: 0.0425 - val_acc: 0.9931 - lr: 2.5000e-05\n",
            "Epoch 27/30\n",
            "37/37 [==============================] - 50s 1s/step - loss: 0.0051 - acc: 0.9979 - val_loss: 0.0733 - val_acc: 0.9826 - lr: 2.5000e-05\n",
            "Epoch 28/30\n",
            "37/37 [==============================] - 49s 1s/step - loss: 0.0146 - acc: 0.9953 - val_loss: 0.0487 - val_acc: 0.9861 - lr: 2.5000e-05\n",
            "Epoch 29/30\n",
            "37/37 [==============================] - ETA: 0s - loss: 0.0076 - acc: 0.9983\n",
            "Epoch 29: ReduceLROnPlateau reducing learning rate to 1.249999968422344e-05.\n",
            "37/37 [==============================] - 48s 1s/step - loss: 0.0076 - acc: 0.9983 - val_loss: 0.0489 - val_acc: 0.9861 - lr: 2.5000e-05\n",
            "Epoch 30/30\n",
            "37/37 [==============================] - 48s 1s/step - loss: 0.0078 - acc: 0.9966 - val_loss: 0.0760 - val_acc: 0.9826 - lr: 1.2500e-05\n"
          ]
        }
      ],
      "source": [
        "batch_size = 64\n",
        "epochs = 30\n",
        "history = model.fit_generator(train_datagen.flow(x_train,y_train, batch_size=batch_size),\n",
        "                              epochs = epochs, validation_data = val_datagen.flow(x_val, y_val),\n",
        "                              verbose = 1, steps_per_epoch=(x_train.shape[0] // batch_size),\n",
        "                              validation_steps=(x_val.shape[0] // batch_size),\n",
        "                              callbacks=[learning_rate_reduction])"
      ]
    },
    {
      "cell_type": "code",
      "execution_count": 22,
      "id": "7ed24aaa-dcb9-4af8-9cb9-792703304ba4",
      "metadata": {
        "id": "7ed24aaa-dcb9-4af8-9cb9-792703304ba4",
        "colab": {
          "base_uri": "https://localhost:8080/"
        },
        "outputId": "238cb9cc-ad27-4586-b4b8-9b8e655c9410"
      },
      "outputs": [
        {
          "output_type": "stream",
          "name": "stdout",
          "text": [
            "19/19 [==============================] - 5s 290ms/step - loss: 0.0589 - acc: 0.9850\n",
            "Validation: accuracy = 0.985000  ;  loss_v = 0.058859\n"
          ]
        }
      ],
      "source": [
        "loss_val, acc_val = model.evaluate(x_val, y_val, verbose=1)\n",
        "print(\"Validation: accuracy = %f  ;  loss_v = %f\" % (acc_val, loss_val))"
      ]
    },
    {
      "cell_type": "code",
      "source": [
        "loss_test, acc_test = model.evaluate(x_test, y_test, verbose=1)\n",
        "print(\"Test: accuracy = %f  ;  loss = %f\" % (acc_test, loss_test))"
      ],
      "metadata": {
        "id": "Jl8CEFytN-ee",
        "colab": {
          "base_uri": "https://localhost:8080/"
        },
        "outputId": "6e213c95-ed22-4275-8225-f607f0b89efe"
      },
      "id": "Jl8CEFytN-ee",
      "execution_count": 23,
      "outputs": [
        {
          "output_type": "stream",
          "name": "stdout",
          "text": [
            "41/41 [==============================] - 10s 242ms/step - loss: 0.1333 - acc: 0.9710\n",
            "Test: accuracy = 0.971014  ;  loss = 0.133297\n"
          ]
        }
      ]
    },
    {
      "cell_type": "code",
      "source": [
        "model.save(\"/content/drive/My Drive/BTP/FINAL_B64_E30_L0001.h5\")"
      ],
      "metadata": {
        "id": "W_-qNYNJOIxU"
      },
      "id": "W_-qNYNJOIxU",
      "execution_count": 29,
      "outputs": []
    },
    {
      "cell_type": "code",
      "source": [
        "model=tf.keras.models.load_model(\"/content/drive/My Drive/BTP/FINAL_B64_E30_L0001.h5\")"
      ],
      "metadata": {
        "id": "r-Hhtmr2OLjJ"
      },
      "id": "r-Hhtmr2OLjJ",
      "execution_count": 7,
      "outputs": []
    },
    {
      "cell_type": "code",
      "source": [
        "y_pred = model.predict(x_test,verbose=1)\n"
      ],
      "metadata": {
        "id": "yIyaGaBzOWEA",
        "colab": {
          "base_uri": "https://localhost:8080/"
        },
        "outputId": "3e25790b-8b81-4393-aed1-4bef03ffdd54"
      },
      "id": "yIyaGaBzOWEA",
      "execution_count": 16,
      "outputs": [
        {
          "output_type": "stream",
          "name": "stdout",
          "text": [
            "41/41 [==============================] - 22s 232ms/step\n"
          ]
        }
      ]
    },
    {
      "cell_type": "code",
      "source": [
        "# from sklearn.metrics import plot_confusion_matrix\n",
        "from sklearn.metrics import confusion_matrix\n",
        "import matplotlib.pyplot as plt\n"
      ],
      "metadata": {
        "id": "j-bP4U2sOdaq"
      },
      "id": "j-bP4U2sOdaq",
      "execution_count": 18,
      "outputs": []
    },
    {
      "cell_type": "code",
      "execution_count": null,
      "metadata": {
        "id": "Bx-ZTkMSYuM3"
      },
      "outputs": [],
      "source": [
        "history.history.keys()"
      ],
      "id": "Bx-ZTkMSYuM3"
    },
    {
      "cell_type": "code",
      "source": [
        "import matplotlib.pyplot as plt\n",
        "plt.plot(history.history['acc'])\n",
        "plt.title('model_accuracy')\n",
        "plt.ylabel('accuracy')\n",
        "plt.xlabel('epoch')\n",
        "plt.legend(['test'],loc='upper left')\n",
        "plt.show()"
      ],
      "metadata": {
        "id": "QwHUwJ2OOki7"
      },
      "id": "QwHUwJ2OOki7",
      "execution_count": null,
      "outputs": []
    },
    {
      "cell_type": "code",
      "source": [
        "import matplotlib.pyplot as plt\n",
        "plt.plot(history.history['loss'])\n",
        "plt.title('model_loss')\n",
        "plt.ylabel('loss')\n",
        "plt.xlabel('epoch')\n",
        "plt.legend(['test'],loc='upper left')\n",
        "plt.show()"
      ],
      "metadata": {
        "id": "x313NvqnOmzy"
      },
      "id": "x313NvqnOmzy",
      "execution_count": null,
      "outputs": []
    },
    {
      "cell_type": "code",
      "source": [
        "import matplotlib.pyplot as plt\n",
        "plt.plot(history.history['val_loss'])\n",
        "plt.title('model_val_loss')\n",
        "plt.ylabel('loss')\n",
        "plt.xlabel('epoch')\n",
        "plt.legend(['train'],loc='upper left')\n",
        "plt.show()"
      ],
      "metadata": {
        "id": "XURJZfwhOsy1"
      },
      "id": "XURJZfwhOsy1",
      "execution_count": null,
      "outputs": []
    },
    {
      "cell_type": "code",
      "source": [
        "import matplotlib.pyplot as plt\n",
        "plt.plot(history.history['val_acc'])\n",
        "plt.title('model_val_acc')\n",
        "plt.ylabel(plt.xlabel('epoch')\n",
        "'val_acc')\n",
        "plt.legend(['train'],loc='upper left')\n",
        "plt.show()"
      ],
      "metadata": {
        "id": "KBVuySIBOzSA"
      },
      "id": "KBVuySIBOzSA",
      "execution_count": null,
      "outputs": []
    },
    {
      "cell_type": "code",
      "execution_count": 19,
      "metadata": {
        "id": "EevkZFgG3LqV"
      },
      "outputs": [],
      "source": [
        "import matplotlib.pyplot as plt\n",
        "# plt.figure(figsize=[8,6])\n",
        "# plt.plot(history.history['loss'],'r',linewidth=3.0)\n",
        "# plt.plot(history.history['val_loss'],'b',linewidth=3.0)\n",
        "# plt.legend(['Training loss', 'Validation Loss'],fontsize=18\n",
        "# plt.ylabel('loss')\n",
        "# plt.xlabel('epoch')\n",
        "# plt.title('Loss Curves',fontsize=16)\n",
        "# plt.show()"
      ],
      "id": "EevkZFgG3LqV"
    },
    {
      "cell_type": "code",
      "execution_count": 20,
      "metadata": {
        "id": "ViRaP6GdcUzL"
      },
      "outputs": [],
      "source": [
        "import numpy as np\n",
        "import matplotlib.pyplot as plt\n",
        "from sklearn import datasets\n",
        "from sklearn.model_selection import learning_curve"
      ],
      "id": "ViRaP6GdcUzL"
    },
    {
      "cell_type": "code",
      "source": [
        "y_predict=model.predict(x_test)\n",
        "y_true=y_test\n",
        "# res = tf.math.confusion_matrix(y_true,y_predict)"
      ],
      "metadata": {
        "id": "T9VruPI1PCF0",
        "colab": {
          "base_uri": "https://localhost:8080/"
        },
        "outputId": "af44ce01-3028-4401-ea69-3678d5c08e42"
      },
      "id": "T9VruPI1PCF0",
      "execution_count": 21,
      "outputs": [
        {
          "output_type": "stream",
          "name": "stdout",
          "text": [
            "41/41 [==============================] - 7s 164ms/step\n"
          ]
        }
      ]
    },
    {
      "cell_type": "code",
      "source": [
        "#cm = confusion_matrix(predict_class,y_test)\n",
        "#y_pred = model.predict(x_test,verbose=1)\n",
        "predict_class = np.argmax(y_pred, axis=1)\n",
        "matrix = confusion_matrix(y_true.argmax(axis=1), y_pred.argmax(axis=1))"
      ],
      "metadata": {
        "id": "l1TtUoi9PHd_"
      },
      "id": "l1TtUoi9PHd_",
      "execution_count": 22,
      "outputs": []
    },
    {
      "cell_type": "code",
      "source": [
        "matrix"
      ],
      "metadata": {
        "id": "exNX82ffPIS5",
        "colab": {
          "base_uri": "https://localhost:8080/"
        },
        "outputId": "ddac22cc-3be1-4507-b4cf-88df1e3fdeff"
      },
      "id": "exNX82ffPIS5",
      "execution_count": 23,
      "outputs": [
        {
          "output_type": "execute_result",
          "data": {
            "text/plain": [
              "array([[282,  15,   0,   3],\n",
              "       [  1, 292,   6,   7],\n",
              "       [  1,   4, 400,   0],\n",
              "       [  0,   1,   0, 299]])"
            ]
          },
          "metadata": {},
          "execution_count": 23
        }
      ]
    },
    {
      "cell_type": "code",
      "source": [
        "from sklearn import metrics\n"
      ],
      "metadata": {
        "id": "oo7ny4BmPLhx"
      },
      "id": "oo7ny4BmPLhx",
      "execution_count": 24,
      "outputs": []
    },
    {
      "cell_type": "code",
      "source": [
        "import sklearn\n",
        "!pip install -U scikit-learn\n",
        "from sklearn.metrics import roc_curve\n",
        "from sklearn.metrics import auc\n",
        "from sklearn.metrics import roc_auc_score\n",
        "\n",
        "y_predict=model.predict(x_test)\n",
        "# predict_class= np.argmax(y_predict,axis=1)\n",
        "y_true=y_test\n",
        "# Compute fpr, tpr, thresholds and roc auc\n",
        "roc_auc_score(y_true, y_predict,multi_class=\"ovr\")\n",
        "# roc_auc = auc(fpr, tpr)\n",
        "\n",
        "# # Plot ROC curve\n",
        "# plt.plot(fpr, tpr, label='ROC curve (area = %0.3f)' % roc_auc)\n",
        "# plt.plot([0, 1], [0, 1], 'k--')  # random predictions curve\n",
        "# plt.xlim([0.0, 1.0])\n",
        "# plt.ylim([0.0, 1.0])\n",
        "# plt.xlabel('False Positive Rate or (1 - Specifity)')\n",
        "# plt.ylabel('True Positive Rate or (Sensitivity)')\n",
        "# plt.title('Receiver Operating Characteristic')\n",
        "# plt.legend(loc=\"lower right\")"
      ],
      "metadata": {
        "id": "8baEkW8_PMSp",
        "colab": {
          "base_uri": "https://localhost:8080/"
        },
        "outputId": "e2aada4f-ffe4-4961-8ff1-7b8fb523070c"
      },
      "id": "8baEkW8_PMSp",
      "execution_count": 26,
      "outputs": [
        {
          "output_type": "stream",
          "name": "stdout",
          "text": [
            "Looking in indexes: https://pypi.org/simple, https://us-python.pkg.dev/colab-wheels/public/simple/\n",
            "Requirement already satisfied: scikit-learn in /usr/local/lib/python3.9/dist-packages (1.2.2)\n",
            "Requirement already satisfied: scipy>=1.3.2 in /usr/local/lib/python3.9/dist-packages (from scikit-learn) (1.10.1)\n",
            "Requirement already satisfied: numpy>=1.17.3 in /usr/local/lib/python3.9/dist-packages (from scikit-learn) (1.22.4)\n",
            "Requirement already satisfied: joblib>=1.1.1 in /usr/local/lib/python3.9/dist-packages (from scikit-learn) (1.1.1)\n",
            "Requirement already satisfied: threadpoolctl>=2.0.0 in /usr/local/lib/python3.9/dist-packages (from scikit-learn) (3.1.0)\n",
            "41/41 [==============================] - 7s 166ms/step\n"
          ]
        },
        {
          "output_type": "execute_result",
          "data": {
            "text/plain": [
              "0.9982351474197289"
            ]
          },
          "metadata": {},
          "execution_count": 26
        }
      ]
    },
    {
      "cell_type": "code",
      "source": [
        "\n",
        "y_predict=model.predict(x_test)\n",
        "y_true=y_test\n",
        "# fpr, tpr = roc_curve(y_true,y_predict)"
      ],
      "metadata": {
        "id": "dhsLVpttPSWS",
        "colab": {
          "base_uri": "https://localhost:8080/"
        },
        "outputId": "f01273e8-e8c7-419c-b65b-e38528e2558b"
      },
      "id": "dhsLVpttPSWS",
      "execution_count": 27,
      "outputs": [
        {
          "output_type": "stream",
          "name": "stdout",
          "text": [
            "41/41 [==============================] - 7s 171ms/step\n"
          ]
        }
      ]
    },
    {
      "cell_type": "code",
      "source": [
        "import seaborn as sns\n",
        "sns.heatmap(matrix,annot = True,fmt='d')"
      ],
      "metadata": {
        "id": "sc6ZeYdaPaGE",
        "colab": {
          "base_uri": "https://localhost:8080/",
          "height": 453
        },
        "outputId": "ee77ed0d-75eb-432c-bc0a-d4a10453cbb6"
      },
      "id": "sc6ZeYdaPaGE",
      "execution_count": 28,
      "outputs": [
        {
          "output_type": "execute_result",
          "data": {
            "text/plain": [
              "<Axes: >"
            ]
          },
          "metadata": {},
          "execution_count": 28
        },
        {
          "output_type": "display_data",
          "data": {
            "text/plain": [
              "<Figure size 640x480 with 2 Axes>"
            ],
            "image/png": "[encoded data removed]"
          },
          "metadata": {}
        }
      ]
    },
    {
      "cell_type": "code",
      "source": [
        "from sklearn.metrics import f1_score\n",
        "y_predict=model.predict(x_test)\n",
        "y_true=y_test\n",
        "f1_score(y_true.argmax(axis=1), y_predict.argmax(axis=1), average='weighted')"
      ],
      "metadata": {
        "id": "7EGJti2pPaOd",
        "colab": {
          "base_uri": "https://localhost:8080/"
        },
        "outputId": "fff789ed-f6f5-49d1-9182-db9242e96cd5"
      },
      "id": "7EGJti2pPaOd",
      "execution_count": 29,
      "outputs": [
        {
          "output_type": "stream",
          "name": "stdout",
          "text": [
            "41/41 [==============================] - 7s 174ms/step\n"
          ]
        },
        {
          "output_type": "execute_result",
          "data": {
            "text/plain": [
              "0.9709985800763171"
            ]
          },
          "metadata": {},
          "execution_count": 29
        }
      ]
    },
    {
      "cell_type": "code",
      "source": [
        "from sklearn.metrics import roc_curve,auc\n",
        "\n",
        "fpr = dict()\n",
        "tpr = dict()\n",
        "roc_auc = dict()\n",
        "for i in range(4):\n",
        "    fpr[i], tpr[i], _ = roc_curve(y_test[:, i], y_predict[:, i])\n",
        "    roc_auc[i] = auc(fpr[i], tpr[i])\n",
        "plt.figure()\n",
        "lw = 2\n",
        "color_arr=[\"red\",\"blue\",\"green\",\"yellow\"]\n",
        "for i in range(4):\n",
        "  plt.plot(\n",
        "      fpr[i],\n",
        "      tpr[i],\n",
        "      color=color_arr[i],\n",
        "      lw=i+1,\n",
        "      label=\"ROC curve (area = %0.2f)\" % roc_auc[i],\n",
        "  )\n",
        "plt.show()"
      ],
      "metadata": {
        "id": "ZDnoTOzKPatS",
        "colab": {
          "base_uri": "https://localhost:8080/",
          "height": 430
        },
        "outputId": "ea8009b6-ad67-48a2-dca2-c468b6975e40"
      },
      "id": "ZDnoTOzKPatS",
      "execution_count": 30,
      "outputs": [
        {
          "output_type": "display_data",
          "data": {
            "text/plain": [
              "<Figure size 640x480 with 1 Axes>"
            ],
            "image/png": "[encoded data removed]"
          },
          "metadata": {}
        }
      ]
    }
  ],
  "metadata": {
    "kernelspec": {
      "display_name": "Python 3",
      "name": "python3"
    },
    "language_info": {
      "name": "python"
    },
    "colab": {
      "provenance": []
    },
    "accelerator": "GPU",
    "gpuClass": "standard"
  },
  "nbformat": 4,
  "nbformat_minor": 5
}